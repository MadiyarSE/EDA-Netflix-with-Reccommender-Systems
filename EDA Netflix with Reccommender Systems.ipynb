{
 "cells": [
  {
   "cell_type": "code",
   "execution_count": 1,
   "id": "b111ab75",
   "metadata": {},
   "outputs": [],
   "source": [
    "import numpy as np\n",
    "import pandas as pd\n",
    "import matplotlib.pyplot as plt \n",
    "import seaborn as sns\n",
    "%matplotlib inline\n"
   ]
  },
  {
   "cell_type": "code",
   "execution_count": 2,
   "id": "4e27cd8f",
   "metadata": {},
   "outputs": [],
   "source": [
    "netflix_overall = pd.read_csv('netflix_titles.csv')"
   ]
  },
  {
   "cell_type": "code",
   "execution_count": 4,
   "id": "64391c22",
   "metadata": {},
   "outputs": [
    {
     "data": {
      "text/html": [
       "<div>\n",
       "<style scoped>\n",
       "    .dataframe tbody tr th:only-of-type {\n",
       "        vertical-align: middle;\n",
       "    }\n",
       "\n",
       "    .dataframe tbody tr th {\n",
       "        vertical-align: top;\n",
       "    }\n",
       "\n",
       "    .dataframe thead th {\n",
       "        text-align: right;\n",
       "    }\n",
       "</style>\n",
       "<table border=\"1\" class=\"dataframe\">\n",
       "  <thead>\n",
       "    <tr style=\"text-align: right;\">\n",
       "      <th></th>\n",
       "      <th>show_id</th>\n",
       "      <th>type</th>\n",
       "      <th>title</th>\n",
       "      <th>director</th>\n",
       "      <th>cast</th>\n",
       "      <th>country</th>\n",
       "      <th>date_added</th>\n",
       "      <th>release_year</th>\n",
       "      <th>rating</th>\n",
       "      <th>duration</th>\n",
       "      <th>listed_in</th>\n",
       "      <th>description</th>\n",
       "    </tr>\n",
       "  </thead>\n",
       "  <tbody>\n",
       "    <tr>\n",
       "      <th>0</th>\n",
       "      <td>s1</td>\n",
       "      <td>Movie</td>\n",
       "      <td>Dick Johnson Is Dead</td>\n",
       "      <td>Kirsten Johnson</td>\n",
       "      <td>NaN</td>\n",
       "      <td>United States</td>\n",
       "      <td>September 25, 2021</td>\n",
       "      <td>2020</td>\n",
       "      <td>PG-13</td>\n",
       "      <td>90 min</td>\n",
       "      <td>Documentaries</td>\n",
       "      <td>As her father nears the end of his life, filmm...</td>\n",
       "    </tr>\n",
       "    <tr>\n",
       "      <th>1</th>\n",
       "      <td>s2</td>\n",
       "      <td>TV Show</td>\n",
       "      <td>Blood &amp; Water</td>\n",
       "      <td>NaN</td>\n",
       "      <td>Ama Qamata, Khosi Ngema, Gail Mabalane, Thaban...</td>\n",
       "      <td>South Africa</td>\n",
       "      <td>September 24, 2021</td>\n",
       "      <td>2021</td>\n",
       "      <td>TV-MA</td>\n",
       "      <td>2 Seasons</td>\n",
       "      <td>International TV Shows, TV Dramas, TV Mysteries</td>\n",
       "      <td>After crossing paths at a party, a Cape Town t...</td>\n",
       "    </tr>\n",
       "    <tr>\n",
       "      <th>2</th>\n",
       "      <td>s3</td>\n",
       "      <td>TV Show</td>\n",
       "      <td>Ganglands</td>\n",
       "      <td>Julien Leclercq</td>\n",
       "      <td>Sami Bouajila, Tracy Gotoas, Samuel Jouy, Nabi...</td>\n",
       "      <td>NaN</td>\n",
       "      <td>September 24, 2021</td>\n",
       "      <td>2021</td>\n",
       "      <td>TV-MA</td>\n",
       "      <td>1 Season</td>\n",
       "      <td>Crime TV Shows, International TV Shows, TV Act...</td>\n",
       "      <td>To protect his family from a powerful drug lor...</td>\n",
       "    </tr>\n",
       "    <tr>\n",
       "      <th>3</th>\n",
       "      <td>s4</td>\n",
       "      <td>TV Show</td>\n",
       "      <td>Jailbirds New Orleans</td>\n",
       "      <td>NaN</td>\n",
       "      <td>NaN</td>\n",
       "      <td>NaN</td>\n",
       "      <td>September 24, 2021</td>\n",
       "      <td>2021</td>\n",
       "      <td>TV-MA</td>\n",
       "      <td>1 Season</td>\n",
       "      <td>Docuseries, Reality TV</td>\n",
       "      <td>Feuds, flirtations and toilet talk go down amo...</td>\n",
       "    </tr>\n",
       "    <tr>\n",
       "      <th>4</th>\n",
       "      <td>s5</td>\n",
       "      <td>TV Show</td>\n",
       "      <td>Kota Factory</td>\n",
       "      <td>NaN</td>\n",
       "      <td>Mayur More, Jitendra Kumar, Ranjan Raj, Alam K...</td>\n",
       "      <td>India</td>\n",
       "      <td>September 24, 2021</td>\n",
       "      <td>2021</td>\n",
       "      <td>TV-MA</td>\n",
       "      <td>2 Seasons</td>\n",
       "      <td>International TV Shows, Romantic TV Shows, TV ...</td>\n",
       "      <td>In a city of coaching centers known to train I...</td>\n",
       "    </tr>\n",
       "  </tbody>\n",
       "</table>\n",
       "</div>"
      ],
      "text/plain": [
       "  show_id     type                  title         director  \\\n",
       "0      s1    Movie   Dick Johnson Is Dead  Kirsten Johnson   \n",
       "1      s2  TV Show          Blood & Water              NaN   \n",
       "2      s3  TV Show              Ganglands  Julien Leclercq   \n",
       "3      s4  TV Show  Jailbirds New Orleans              NaN   \n",
       "4      s5  TV Show           Kota Factory              NaN   \n",
       "\n",
       "                                                cast        country  \\\n",
       "0                                                NaN  United States   \n",
       "1  Ama Qamata, Khosi Ngema, Gail Mabalane, Thaban...   South Africa   \n",
       "2  Sami Bouajila, Tracy Gotoas, Samuel Jouy, Nabi...            NaN   \n",
       "3                                                NaN            NaN   \n",
       "4  Mayur More, Jitendra Kumar, Ranjan Raj, Alam K...          India   \n",
       "\n",
       "           date_added  release_year rating   duration  \\\n",
       "0  September 25, 2021          2020  PG-13     90 min   \n",
       "1  September 24, 2021          2021  TV-MA  2 Seasons   \n",
       "2  September 24, 2021          2021  TV-MA   1 Season   \n",
       "3  September 24, 2021          2021  TV-MA   1 Season   \n",
       "4  September 24, 2021          2021  TV-MA  2 Seasons   \n",
       "\n",
       "                                           listed_in  \\\n",
       "0                                      Documentaries   \n",
       "1    International TV Shows, TV Dramas, TV Mysteries   \n",
       "2  Crime TV Shows, International TV Shows, TV Act...   \n",
       "3                             Docuseries, Reality TV   \n",
       "4  International TV Shows, Romantic TV Shows, TV ...   \n",
       "\n",
       "                                         description  \n",
       "0  As her father nears the end of his life, filmm...  \n",
       "1  After crossing paths at a party, a Cape Town t...  \n",
       "2  To protect his family from a powerful drug lor...  \n",
       "3  Feuds, flirtations and toilet talk go down amo...  \n",
       "4  In a city of coaching centers known to train I...  "
      ]
     },
     "execution_count": 4,
     "metadata": {},
     "output_type": "execute_result"
    }
   ],
   "source": [
    "netflix_overall.head()"
   ]
  },
  {
   "cell_type": "code",
   "execution_count": 5,
   "id": "e589474b",
   "metadata": {},
   "outputs": [
    {
     "name": "stdout",
     "output_type": "stream",
     "text": [
      "<class 'pandas.core.frame.DataFrame'>\n",
      "RangeIndex: 8807 entries, 0 to 8806\n",
      "Data columns (total 12 columns):\n",
      " #   Column        Non-Null Count  Dtype \n",
      "---  ------        --------------  ----- \n",
      " 0   show_id       8807 non-null   object\n",
      " 1   type          8807 non-null   object\n",
      " 2   title         8807 non-null   object\n",
      " 3   director      6173 non-null   object\n",
      " 4   cast          7982 non-null   object\n",
      " 5   country       7976 non-null   object\n",
      " 6   date_added    8797 non-null   object\n",
      " 7   release_year  8807 non-null   int64 \n",
      " 8   rating        8803 non-null   object\n",
      " 9   duration      8804 non-null   object\n",
      " 10  listed_in     8807 non-null   object\n",
      " 11  description   8807 non-null   object\n",
      "dtypes: int64(1), object(11)\n",
      "memory usage: 825.8+ KB\n"
     ]
    }
   ],
   "source": [
    "netflix_overall.info()"
   ]
  },
  {
   "cell_type": "code",
   "execution_count": 6,
   "id": "ba83b826",
   "metadata": {},
   "outputs": [
    {
     "data": {
      "text/plain": [
       "show_id            0\n",
       "type               0\n",
       "title              0\n",
       "director        2634\n",
       "cast             825\n",
       "country          831\n",
       "date_added        10\n",
       "release_year       0\n",
       "rating             4\n",
       "duration           3\n",
       "listed_in          0\n",
       "description        0\n",
       "dtype: int64"
      ]
     },
     "execution_count": 6,
     "metadata": {},
     "output_type": "execute_result"
    }
   ],
   "source": [
    "netflix_overall.isna().sum()"
   ]
  },
  {
   "cell_type": "code",
   "execution_count": 7,
   "id": "72a4124f",
   "metadata": {},
   "outputs": [],
   "source": [
    "netflix_movies = netflix_overall[netflix_overall['type']=='Movie'].copy()"
   ]
  },
  {
   "cell_type": "code",
   "execution_count": 8,
   "id": "e6108212",
   "metadata": {},
   "outputs": [],
   "source": [
    "netflix_shows = netflix_overall[netflix_overall['type']=='TV Show'].copy()"
   ]
  },
  {
   "cell_type": "code",
   "execution_count": 9,
   "id": "233beb1e",
   "metadata": {},
   "outputs": [
    {
     "data": {
      "text/html": [
       "<div>\n",
       "<style scoped>\n",
       "    .dataframe tbody tr th:only-of-type {\n",
       "        vertical-align: middle;\n",
       "    }\n",
       "\n",
       "    .dataframe tbody tr th {\n",
       "        vertical-align: top;\n",
       "    }\n",
       "\n",
       "    .dataframe thead th {\n",
       "        text-align: right;\n",
       "    }\n",
       "</style>\n",
       "<table border=\"1\" class=\"dataframe\">\n",
       "  <thead>\n",
       "    <tr style=\"text-align: right;\">\n",
       "      <th></th>\n",
       "      <th>show_id</th>\n",
       "      <th>type</th>\n",
       "      <th>title</th>\n",
       "      <th>director</th>\n",
       "      <th>cast</th>\n",
       "      <th>country</th>\n",
       "      <th>date_added</th>\n",
       "      <th>release_year</th>\n",
       "      <th>rating</th>\n",
       "      <th>duration</th>\n",
       "      <th>listed_in</th>\n",
       "      <th>description</th>\n",
       "    </tr>\n",
       "  </thead>\n",
       "  <tbody>\n",
       "    <tr>\n",
       "      <th>0</th>\n",
       "      <td>s1</td>\n",
       "      <td>Movie</td>\n",
       "      <td>Dick Johnson Is Dead</td>\n",
       "      <td>Kirsten Johnson</td>\n",
       "      <td>NaN</td>\n",
       "      <td>United States</td>\n",
       "      <td>September 25, 2021</td>\n",
       "      <td>2020</td>\n",
       "      <td>PG-13</td>\n",
       "      <td>90 min</td>\n",
       "      <td>Documentaries</td>\n",
       "      <td>As her father nears the end of his life, filmm...</td>\n",
       "    </tr>\n",
       "    <tr>\n",
       "      <th>6</th>\n",
       "      <td>s7</td>\n",
       "      <td>Movie</td>\n",
       "      <td>My Little Pony: A New Generation</td>\n",
       "      <td>Robert Cullen, José Luis Ucha</td>\n",
       "      <td>Vanessa Hudgens, Kimiko Glenn, James Marsden, ...</td>\n",
       "      <td>NaN</td>\n",
       "      <td>September 24, 2021</td>\n",
       "      <td>2021</td>\n",
       "      <td>PG</td>\n",
       "      <td>91 min</td>\n",
       "      <td>Children &amp; Family Movies</td>\n",
       "      <td>Equestria's divided. But a bright-eyed hero be...</td>\n",
       "    </tr>\n",
       "    <tr>\n",
       "      <th>7</th>\n",
       "      <td>s8</td>\n",
       "      <td>Movie</td>\n",
       "      <td>Sankofa</td>\n",
       "      <td>Haile Gerima</td>\n",
       "      <td>Kofi Ghanaba, Oyafunmike Ogunlano, Alexandra D...</td>\n",
       "      <td>United States, Ghana, Burkina Faso, United Kin...</td>\n",
       "      <td>September 24, 2021</td>\n",
       "      <td>1993</td>\n",
       "      <td>TV-MA</td>\n",
       "      <td>125 min</td>\n",
       "      <td>Dramas, Independent Movies, International Movies</td>\n",
       "      <td>On a photo shoot in Ghana, an American model s...</td>\n",
       "    </tr>\n",
       "    <tr>\n",
       "      <th>9</th>\n",
       "      <td>s10</td>\n",
       "      <td>Movie</td>\n",
       "      <td>The Starling</td>\n",
       "      <td>Theodore Melfi</td>\n",
       "      <td>Melissa McCarthy, Chris O'Dowd, Kevin Kline, T...</td>\n",
       "      <td>United States</td>\n",
       "      <td>September 24, 2021</td>\n",
       "      <td>2021</td>\n",
       "      <td>PG-13</td>\n",
       "      <td>104 min</td>\n",
       "      <td>Comedies, Dramas</td>\n",
       "      <td>A woman adjusting to life after a loss contend...</td>\n",
       "    </tr>\n",
       "    <tr>\n",
       "      <th>12</th>\n",
       "      <td>s13</td>\n",
       "      <td>Movie</td>\n",
       "      <td>Je Suis Karl</td>\n",
       "      <td>Christian Schwochow</td>\n",
       "      <td>Luna Wedler, Jannis Niewöhner, Milan Peschel, ...</td>\n",
       "      <td>Germany, Czech Republic</td>\n",
       "      <td>September 23, 2021</td>\n",
       "      <td>2021</td>\n",
       "      <td>TV-MA</td>\n",
       "      <td>127 min</td>\n",
       "      <td>Dramas, International Movies</td>\n",
       "      <td>After most of her family is murdered in a terr...</td>\n",
       "    </tr>\n",
       "  </tbody>\n",
       "</table>\n",
       "</div>"
      ],
      "text/plain": [
       "   show_id   type                             title  \\\n",
       "0       s1  Movie              Dick Johnson Is Dead   \n",
       "6       s7  Movie  My Little Pony: A New Generation   \n",
       "7       s8  Movie                           Sankofa   \n",
       "9      s10  Movie                      The Starling   \n",
       "12     s13  Movie                      Je Suis Karl   \n",
       "\n",
       "                         director  \\\n",
       "0                 Kirsten Johnson   \n",
       "6   Robert Cullen, José Luis Ucha   \n",
       "7                    Haile Gerima   \n",
       "9                  Theodore Melfi   \n",
       "12            Christian Schwochow   \n",
       "\n",
       "                                                 cast  \\\n",
       "0                                                 NaN   \n",
       "6   Vanessa Hudgens, Kimiko Glenn, James Marsden, ...   \n",
       "7   Kofi Ghanaba, Oyafunmike Ogunlano, Alexandra D...   \n",
       "9   Melissa McCarthy, Chris O'Dowd, Kevin Kline, T...   \n",
       "12  Luna Wedler, Jannis Niewöhner, Milan Peschel, ...   \n",
       "\n",
       "                                              country          date_added  \\\n",
       "0                                       United States  September 25, 2021   \n",
       "6                                                 NaN  September 24, 2021   \n",
       "7   United States, Ghana, Burkina Faso, United Kin...  September 24, 2021   \n",
       "9                                       United States  September 24, 2021   \n",
       "12                            Germany, Czech Republic  September 23, 2021   \n",
       "\n",
       "    release_year rating duration  \\\n",
       "0           2020  PG-13   90 min   \n",
       "6           2021     PG   91 min   \n",
       "7           1993  TV-MA  125 min   \n",
       "9           2021  PG-13  104 min   \n",
       "12          2021  TV-MA  127 min   \n",
       "\n",
       "                                           listed_in  \\\n",
       "0                                      Documentaries   \n",
       "6                           Children & Family Movies   \n",
       "7   Dramas, Independent Movies, International Movies   \n",
       "9                                   Comedies, Dramas   \n",
       "12                      Dramas, International Movies   \n",
       "\n",
       "                                          description  \n",
       "0   As her father nears the end of his life, filmm...  \n",
       "6   Equestria's divided. But a bright-eyed hero be...  \n",
       "7   On a photo shoot in Ghana, an American model s...  \n",
       "9   A woman adjusting to life after a loss contend...  \n",
       "12  After most of her family is murdered in a terr...  "
      ]
     },
     "execution_count": 9,
     "metadata": {},
     "output_type": "execute_result"
    }
   ],
   "source": [
    "netflix_movies.head()"
   ]
  },
  {
   "cell_type": "code",
   "execution_count": 10,
   "id": "2945bbe5",
   "metadata": {},
   "outputs": [
    {
     "data": {
      "image/png": "[encoded data removed]",
      "text/plain": [
       "<Figure size 640x480 with 1 Axes>"
      ]
     },
     "metadata": {},
     "output_type": "display_data"
    }
   ],
   "source": [
    "sns.set(style = 'darkgrid')\n",
    "ax = sns.countplot(x='type',data=netflix_overall, palette='Set2')"
   ]
  },
  {
   "cell_type": "markdown",
   "id": "07ff5573",
   "metadata": {},
   "source": [
    "# Популярное время длительности"
   ]
  },
  {
   "cell_type": "code",
   "execution_count": 12,
   "id": "e443d0b2",
   "metadata": {},
   "outputs": [
    {
     "data": {
      "text/plain": [
       "1 Season     1793\n",
       "2 Seasons     425\n",
       "3 Seasons     199\n",
       "90 min        152\n",
       "94 min        146\n",
       "             ... \n",
       "16 min          1\n",
       "186 min         1\n",
       "193 min         1\n",
       "189 min         1\n",
       "191 min         1\n",
       "Name: duration, Length: 220, dtype: int64"
      ]
     },
     "execution_count": 12,
     "metadata": {},
     "output_type": "execute_result"
    }
   ],
   "source": [
    "topdirs = pd.value_counts(netflix_overall['duration'])\n",
    "topdirs"
   ]
  },
  {
   "cell_type": "code",
   "execution_count": 13,
   "id": "ed15b256",
   "metadata": {},
   "outputs": [],
   "source": []
  },
  {
   "cell_type": "markdown",
   "id": "4ea50699",
   "metadata": {},
   "source": [
    "# Анализ фильмов"
   ]
  },
  {
   "cell_type": "markdown",
   "id": "9887d049",
   "metadata": {},
   "source": [
    "Какой месяц, самый привлекательный для релиза контента?"
   ]
  },
  {
   "cell_type": "code",
   "execution_count": 15,
   "id": "84888280",
   "metadata": {},
   "outputs": [
    {
     "data": {
      "text/plain": [
       "show_id            0\n",
       "type               0\n",
       "title              0\n",
       "director        2634\n",
       "cast             825\n",
       "country          831\n",
       "date_added        10\n",
       "release_year       0\n",
       "rating             4\n",
       "duration           3\n",
       "listed_in          0\n",
       "description        0\n",
       "dtype: int64"
      ]
     },
     "execution_count": 15,
     "metadata": {},
     "output_type": "execute_result"
    }
   ],
   "source": [
    "netflix_overall.isna().sum()"
   ]
  },
  {
   "cell_type": "code",
   "execution_count": 18,
   "id": "1b4e7d87",
   "metadata": {},
   "outputs": [
    {
     "data": {
      "text/plain": [
       "date_added    0\n",
       "dtype: int64"
      ]
     },
     "execution_count": 18,
     "metadata": {},
     "output_type": "execute_result"
    }
   ],
   "source": [
    "netflix_date = netflix_shows[['date_added']].dropna()\n",
    "netflix_date.isna().sum()"
   ]
  },
  {
   "cell_type": "code",
   "execution_count": 19,
   "id": "e89ff5c9",
   "metadata": {},
   "outputs": [
    {
     "data": {
      "text/html": [
       "<div>\n",
       "<style scoped>\n",
       "    .dataframe tbody tr th:only-of-type {\n",
       "        vertical-align: middle;\n",
       "    }\n",
       "\n",
       "    .dataframe tbody tr th {\n",
       "        vertical-align: top;\n",
       "    }\n",
       "\n",
       "    .dataframe thead th {\n",
       "        text-align: right;\n",
       "    }\n",
       "</style>\n",
       "<table border=\"1\" class=\"dataframe\">\n",
       "  <thead>\n",
       "    <tr style=\"text-align: right;\">\n",
       "      <th></th>\n",
       "      <th>date_added</th>\n",
       "    </tr>\n",
       "  </thead>\n",
       "  <tbody>\n",
       "    <tr>\n",
       "      <th>1</th>\n",
       "      <td>September 24, 2021</td>\n",
       "    </tr>\n",
       "    <tr>\n",
       "      <th>2</th>\n",
       "      <td>September 24, 2021</td>\n",
       "    </tr>\n",
       "    <tr>\n",
       "      <th>3</th>\n",
       "      <td>September 24, 2021</td>\n",
       "    </tr>\n",
       "    <tr>\n",
       "      <th>4</th>\n",
       "      <td>September 24, 2021</td>\n",
       "    </tr>\n",
       "    <tr>\n",
       "      <th>5</th>\n",
       "      <td>September 24, 2021</td>\n",
       "    </tr>\n",
       "  </tbody>\n",
       "</table>\n",
       "</div>"
      ],
      "text/plain": [
       "           date_added\n",
       "1  September 24, 2021\n",
       "2  September 24, 2021\n",
       "3  September 24, 2021\n",
       "4  September 24, 2021\n",
       "5  September 24, 2021"
      ]
     },
     "execution_count": 19,
     "metadata": {},
     "output_type": "execute_result"
    }
   ],
   "source": [
    "netflix_date.head()"
   ]
  },
  {
   "cell_type": "code",
   "execution_count": 20,
   "id": "322c188a",
   "metadata": {},
   "outputs": [],
   "source": [
    "netflix_date['year'] = netflix_date['date_added'].apply(lambda x:x.split(', ')[-1])\n",
    "netflix_date['month'] = netflix_date['date_added'].apply(lambda x:x.split(' ')[0])"
   ]
  },
  {
   "cell_type": "code",
   "execution_count": 21,
   "id": "f7ea275f",
   "metadata": {},
   "outputs": [
    {
     "data": {
      "text/plain": [
       "1       2021\n",
       "2       2021\n",
       "3       2021\n",
       "4       2021\n",
       "5       2021\n",
       "        ... \n",
       "8795    2018\n",
       "8796    2017\n",
       "8797    2018\n",
       "8800    2016\n",
       "8803    2019\n",
       "Name: year, Length: 2666, dtype: object"
      ]
     },
     "execution_count": 21,
     "metadata": {},
     "output_type": "execute_result"
    }
   ],
   "source": [
    "netflix_date['year']"
   ]
  },
  {
   "cell_type": "code",
   "execution_count": 22,
   "id": "f63f9223",
   "metadata": {},
   "outputs": [
    {
     "data": {
      "text/html": [
       "<div>\n",
       "<style scoped>\n",
       "    .dataframe tbody tr th:only-of-type {\n",
       "        vertical-align: middle;\n",
       "    }\n",
       "\n",
       "    .dataframe tbody tr th {\n",
       "        vertical-align: top;\n",
       "    }\n",
       "\n",
       "    .dataframe thead th {\n",
       "        text-align: right;\n",
       "    }\n",
       "</style>\n",
       "<table border=\"1\" class=\"dataframe\">\n",
       "  <thead>\n",
       "    <tr style=\"text-align: right;\">\n",
       "      <th></th>\n",
       "      <th>date_added</th>\n",
       "      <th>year</th>\n",
       "      <th>month</th>\n",
       "    </tr>\n",
       "  </thead>\n",
       "  <tbody>\n",
       "    <tr>\n",
       "      <th>1</th>\n",
       "      <td>September 24, 2021</td>\n",
       "      <td>2021</td>\n",
       "      <td>September</td>\n",
       "    </tr>\n",
       "    <tr>\n",
       "      <th>2</th>\n",
       "      <td>September 24, 2021</td>\n",
       "      <td>2021</td>\n",
       "      <td>September</td>\n",
       "    </tr>\n",
       "    <tr>\n",
       "      <th>3</th>\n",
       "      <td>September 24, 2021</td>\n",
       "      <td>2021</td>\n",
       "      <td>September</td>\n",
       "    </tr>\n",
       "    <tr>\n",
       "      <th>4</th>\n",
       "      <td>September 24, 2021</td>\n",
       "      <td>2021</td>\n",
       "      <td>September</td>\n",
       "    </tr>\n",
       "    <tr>\n",
       "      <th>5</th>\n",
       "      <td>September 24, 2021</td>\n",
       "      <td>2021</td>\n",
       "      <td>September</td>\n",
       "    </tr>\n",
       "  </tbody>\n",
       "</table>\n",
       "</div>"
      ],
      "text/plain": [
       "           date_added  year      month\n",
       "1  September 24, 2021  2021  September\n",
       "2  September 24, 2021  2021  September\n",
       "3  September 24, 2021  2021  September\n",
       "4  September 24, 2021  2021  September\n",
       "5  September 24, 2021  2021  September"
      ]
     },
     "execution_count": 22,
     "metadata": {},
     "output_type": "execute_result"
    }
   ],
   "source": [
    "netflix_date.head()"
   ]
  },
  {
   "cell_type": "code",
   "execution_count": 26,
   "id": "a759deb2",
   "metadata": {},
   "outputs": [
    {
     "data": {
      "text/html": [
       "<div>\n",
       "<style scoped>\n",
       "    .dataframe tbody tr th:only-of-type {\n",
       "        vertical-align: middle;\n",
       "    }\n",
       "\n",
       "    .dataframe tbody tr th {\n",
       "        vertical-align: top;\n",
       "    }\n",
       "\n",
       "    .dataframe thead th {\n",
       "        text-align: right;\n",
       "    }\n",
       "</style>\n",
       "<table border=\"1\" class=\"dataframe\">\n",
       "  <thead>\n",
       "    <tr style=\"text-align: right;\">\n",
       "      <th></th>\n",
       "      <th>date_added</th>\n",
       "      <th>year</th>\n",
       "      <th>month</th>\n",
       "    </tr>\n",
       "  </thead>\n",
       "  <tbody>\n",
       "    <tr>\n",
       "      <th>6611</th>\n",
       "      <td>February 4, 2008</td>\n",
       "      <td>2008</td>\n",
       "      <td>February</td>\n",
       "    </tr>\n",
       "    <tr>\n",
       "      <th>6885</th>\n",
       "      <td>October 8, 2013</td>\n",
       "      <td>2013</td>\n",
       "      <td></td>\n",
       "    </tr>\n",
       "    <tr>\n",
       "      <th>5940</th>\n",
       "      <td>August 2, 2013</td>\n",
       "      <td>2013</td>\n",
       "      <td>August</td>\n",
       "    </tr>\n",
       "    <tr>\n",
       "      <th>7112</th>\n",
       "      <td>March 31, 2013</td>\n",
       "      <td>2013</td>\n",
       "      <td>March</td>\n",
       "    </tr>\n",
       "    <tr>\n",
       "      <th>7908</th>\n",
       "      <td>October 14, 2013</td>\n",
       "      <td>2013</td>\n",
       "      <td>October</td>\n",
       "    </tr>\n",
       "    <tr>\n",
       "      <th>...</th>\n",
       "      <td>...</td>\n",
       "      <td>...</td>\n",
       "      <td>...</td>\n",
       "    </tr>\n",
       "    <tr>\n",
       "      <th>153</th>\n",
       "      <td>September 1, 2021</td>\n",
       "      <td>2021</td>\n",
       "      <td>September</td>\n",
       "    </tr>\n",
       "    <tr>\n",
       "      <th>154</th>\n",
       "      <td>September 1, 2021</td>\n",
       "      <td>2021</td>\n",
       "      <td>September</td>\n",
       "    </tr>\n",
       "    <tr>\n",
       "      <th>160</th>\n",
       "      <td>September 1, 2021</td>\n",
       "      <td>2021</td>\n",
       "      <td>September</td>\n",
       "    </tr>\n",
       "    <tr>\n",
       "      <th>165</th>\n",
       "      <td>September 1, 2021</td>\n",
       "      <td>2021</td>\n",
       "      <td>September</td>\n",
       "    </tr>\n",
       "    <tr>\n",
       "      <th>181</th>\n",
       "      <td>September 1, 2021</td>\n",
       "      <td>2021</td>\n",
       "      <td>September</td>\n",
       "    </tr>\n",
       "  </tbody>\n",
       "</table>\n",
       "<p>2666 rows × 3 columns</p>\n",
       "</div>"
      ],
      "text/plain": [
       "             date_added  year      month\n",
       "6611   February 4, 2008  2008   February\n",
       "6885    October 8, 2013  2013           \n",
       "5940     August 2, 2013  2013     August\n",
       "7112     March 31, 2013  2013      March\n",
       "7908   October 14, 2013  2013    October\n",
       "...                 ...   ...        ...\n",
       "153   September 1, 2021  2021  September\n",
       "154   September 1, 2021  2021  September\n",
       "160   September 1, 2021  2021  September\n",
       "165   September 1, 2021  2021  September\n",
       "181   September 1, 2021  2021  September\n",
       "\n",
       "[2666 rows x 3 columns]"
      ]
     },
     "execution_count": 26,
     "metadata": {},
     "output_type": "execute_result"
    }
   ],
   "source": [
    "netflix_date.sort_values(by=['year','month'])"
   ]
  },
  {
   "cell_type": "markdown",
   "id": "cd0c5aaa",
   "metadata": {},
   "source": [
    "Лучший месяц для сериала "
   ]
  },
  {
   "cell_type": "code",
   "execution_count": 24,
   "id": "a23eeb99",
   "metadata": {},
   "outputs": [
    {
     "data": {
      "text/html": [
       "<div>\n",
       "<style scoped>\n",
       "    .dataframe tbody tr th:only-of-type {\n",
       "        vertical-align: middle;\n",
       "    }\n",
       "\n",
       "    .dataframe tbody tr th {\n",
       "        vertical-align: top;\n",
       "    }\n",
       "\n",
       "    .dataframe thead th {\n",
       "        text-align: right;\n",
       "    }\n",
       "</style>\n",
       "<table border=\"1\" class=\"dataframe\">\n",
       "  <thead>\n",
       "    <tr style=\"text-align: right;\">\n",
       "      <th>year</th>\n",
       "      <th>2008</th>\n",
       "      <th>2013</th>\n",
       "      <th>2014</th>\n",
       "      <th>2015</th>\n",
       "      <th>2016</th>\n",
       "      <th>2017</th>\n",
       "      <th>2018</th>\n",
       "      <th>2019</th>\n",
       "      <th>2020</th>\n",
       "      <th>2021</th>\n",
       "    </tr>\n",
       "    <tr>\n",
       "      <th>month</th>\n",
       "      <th></th>\n",
       "      <th></th>\n",
       "      <th></th>\n",
       "      <th></th>\n",
       "      <th></th>\n",
       "      <th></th>\n",
       "      <th></th>\n",
       "      <th></th>\n",
       "      <th></th>\n",
       "      <th></th>\n",
       "    </tr>\n",
       "  </thead>\n",
       "  <tbody>\n",
       "    <tr>\n",
       "      <th>December</th>\n",
       "      <td>0.0</td>\n",
       "      <td>0.0</td>\n",
       "      <td>0.0</td>\n",
       "      <td>4.0</td>\n",
       "      <td>43.0</td>\n",
       "      <td>35.0</td>\n",
       "      <td>56.0</td>\n",
       "      <td>44.0</td>\n",
       "      <td>68.0</td>\n",
       "      <td>0.0</td>\n",
       "    </tr>\n",
       "    <tr>\n",
       "      <th>November</th>\n",
       "      <td>0.0</td>\n",
       "      <td>0.0</td>\n",
       "      <td>2.0</td>\n",
       "      <td>1.0</td>\n",
       "      <td>16.0</td>\n",
       "      <td>27.0</td>\n",
       "      <td>36.0</td>\n",
       "      <td>66.0</td>\n",
       "      <td>51.0</td>\n",
       "      <td>0.0</td>\n",
       "    </tr>\n",
       "    <tr>\n",
       "      <th>October</th>\n",
       "      <td>0.0</td>\n",
       "      <td>1.0</td>\n",
       "      <td>0.0</td>\n",
       "      <td>4.0</td>\n",
       "      <td>19.0</td>\n",
       "      <td>28.0</td>\n",
       "      <td>44.0</td>\n",
       "      <td>63.0</td>\n",
       "      <td>51.0</td>\n",
       "      <td>0.0</td>\n",
       "    </tr>\n",
       "    <tr>\n",
       "      <th>September</th>\n",
       "      <td>0.0</td>\n",
       "      <td>1.0</td>\n",
       "      <td>0.0</td>\n",
       "      <td>0.0</td>\n",
       "      <td>17.0</td>\n",
       "      <td>32.0</td>\n",
       "      <td>42.0</td>\n",
       "      <td>36.0</td>\n",
       "      <td>53.0</td>\n",
       "      <td>65.0</td>\n",
       "    </tr>\n",
       "    <tr>\n",
       "      <th>August</th>\n",
       "      <td>0.0</td>\n",
       "      <td>1.0</td>\n",
       "      <td>0.0</td>\n",
       "      <td>0.0</td>\n",
       "      <td>11.0</td>\n",
       "      <td>33.0</td>\n",
       "      <td>33.0</td>\n",
       "      <td>44.0</td>\n",
       "      <td>47.0</td>\n",
       "      <td>61.0</td>\n",
       "    </tr>\n",
       "    <tr>\n",
       "      <th>July</th>\n",
       "      <td>0.0</td>\n",
       "      <td>0.0</td>\n",
       "      <td>0.0</td>\n",
       "      <td>2.0</td>\n",
       "      <td>9.0</td>\n",
       "      <td>30.0</td>\n",
       "      <td>25.0</td>\n",
       "      <td>57.0</td>\n",
       "      <td>43.0</td>\n",
       "      <td>88.0</td>\n",
       "    </tr>\n",
       "    <tr>\n",
       "      <th>June</th>\n",
       "      <td>0.0</td>\n",
       "      <td>0.0</td>\n",
       "      <td>0.0</td>\n",
       "      <td>1.0</td>\n",
       "      <td>7.0</td>\n",
       "      <td>27.0</td>\n",
       "      <td>27.0</td>\n",
       "      <td>46.0</td>\n",
       "      <td>41.0</td>\n",
       "      <td>83.0</td>\n",
       "    </tr>\n",
       "    <tr>\n",
       "      <th>May</th>\n",
       "      <td>0.0</td>\n",
       "      <td>0.0</td>\n",
       "      <td>0.0</td>\n",
       "      <td>0.0</td>\n",
       "      <td>2.0</td>\n",
       "      <td>22.0</td>\n",
       "      <td>25.0</td>\n",
       "      <td>48.0</td>\n",
       "      <td>52.0</td>\n",
       "      <td>38.0</td>\n",
       "    </tr>\n",
       "    <tr>\n",
       "      <th>April</th>\n",
       "      <td>0.0</td>\n",
       "      <td>0.0</td>\n",
       "      <td>1.0</td>\n",
       "      <td>4.0</td>\n",
       "      <td>7.0</td>\n",
       "      <td>25.0</td>\n",
       "      <td>27.0</td>\n",
       "      <td>42.0</td>\n",
       "      <td>50.0</td>\n",
       "      <td>53.0</td>\n",
       "    </tr>\n",
       "    <tr>\n",
       "      <th>March</th>\n",
       "      <td>0.0</td>\n",
       "      <td>1.0</td>\n",
       "      <td>0.0</td>\n",
       "      <td>1.0</td>\n",
       "      <td>2.0</td>\n",
       "      <td>36.0</td>\n",
       "      <td>32.0</td>\n",
       "      <td>52.0</td>\n",
       "      <td>44.0</td>\n",
       "      <td>37.0</td>\n",
       "    </tr>\n",
       "    <tr>\n",
       "      <th>February</th>\n",
       "      <td>1.0</td>\n",
       "      <td>0.0</td>\n",
       "      <td>1.0</td>\n",
       "      <td>0.0</td>\n",
       "      <td>6.0</td>\n",
       "      <td>16.0</td>\n",
       "      <td>23.0</td>\n",
       "      <td>42.0</td>\n",
       "      <td>42.0</td>\n",
       "      <td>44.0</td>\n",
       "    </tr>\n",
       "    <tr>\n",
       "      <th>January</th>\n",
       "      <td>0.0</td>\n",
       "      <td>0.0</td>\n",
       "      <td>0.0</td>\n",
       "      <td>0.0</td>\n",
       "      <td>26.0</td>\n",
       "      <td>14.0</td>\n",
       "      <td>18.0</td>\n",
       "      <td>35.0</td>\n",
       "      <td>52.0</td>\n",
       "      <td>36.0</td>\n",
       "    </tr>\n",
       "  </tbody>\n",
       "</table>\n",
       "</div>"
      ],
      "text/plain": [
       "year       2008  2013  2014  2015  2016  2017  2018  2019  2020  2021\n",
       "month                                                                \n",
       "December    0.0   0.0   0.0   4.0  43.0  35.0  56.0  44.0  68.0   0.0\n",
       "November    0.0   0.0   2.0   1.0  16.0  27.0  36.0  66.0  51.0   0.0\n",
       "October     0.0   1.0   0.0   4.0  19.0  28.0  44.0  63.0  51.0   0.0\n",
       "September   0.0   1.0   0.0   0.0  17.0  32.0  42.0  36.0  53.0  65.0\n",
       "August      0.0   1.0   0.0   0.0  11.0  33.0  33.0  44.0  47.0  61.0\n",
       "July        0.0   0.0   0.0   2.0   9.0  30.0  25.0  57.0  43.0  88.0\n",
       "June        0.0   0.0   0.0   1.0   7.0  27.0  27.0  46.0  41.0  83.0\n",
       "May         0.0   0.0   0.0   0.0   2.0  22.0  25.0  48.0  52.0  38.0\n",
       "April       0.0   0.0   1.0   4.0   7.0  25.0  27.0  42.0  50.0  53.0\n",
       "March       0.0   1.0   0.0   1.0   2.0  36.0  32.0  52.0  44.0  37.0\n",
       "February    1.0   0.0   1.0   0.0   6.0  16.0  23.0  42.0  42.0  44.0\n",
       "January     0.0   0.0   0.0   0.0  26.0  14.0  18.0  35.0  52.0  36.0"
      ]
     },
     "execution_count": 24,
     "metadata": {},
     "output_type": "execute_result"
    }
   ],
   "source": [
    "month_order = ['January', 'February', 'March', 'April', 'May', 'June', 'July', 'August', 'September', 'October', 'November', 'December'][::-1]\n",
    "df = netflix_date.groupby('year')['month'].value_counts().unstack().fillna(0)[month_order].T\n",
    "df"
   ]
  },
  {
   "cell_type": "markdown",
   "id": "fda06c7b",
   "metadata": {},
   "source": [
    "Vizualize "
   ]
  },
  {
   "cell_type": "code",
   "execution_count": 25,
   "id": "15987cce",
   "metadata": {},
   "outputs": [
    {
     "data": {
      "image/png": "[encoded data removed]",
      "text/plain": [
       "<Figure size 1000x800 with 2 Axes>"
      ]
     },
     "metadata": {},
     "output_type": "display_data"
    }
   ],
   "source": [
    "plt.figure(figsize=(10, 8), dpi=100)\n",
    "plt.pcolor(df, cmap='GnBu', edgecolors='white', linewidths=2)\n",
    "plt.xticks(np.arange(0.5, len(df.columns), 1), df.columns, fontsize=7)\n",
    "plt.yticks(np.arange(0.5, len(df.index), 1), df.index, fontsize=7)\n",
    "\n",
    "plt.title('Netflix Contents Update', fontsize=12, fontweight='bold')\n",
    "cbar = plt.colorbar()\n",
    "\n",
    "cbar.ax.tick_params(labelsize=8) \n",
    "cbar.ax.minorticks_on()\n",
    "plt.show()"
   ]
  },
  {
   "cell_type": "markdown",
   "id": "e21fd0db",
   "metadata": {},
   "source": [
    "# Анализ рейтингов фильмов"
   ]
  },
  {
   "cell_type": "code",
   "execution_count": 28,
   "id": "df2fc1a9",
   "metadata": {},
   "outputs": [
    {
     "data": {
      "image/png": "[encoded data removed]",
      "text/plain": [
       "<Figure size 1200x1000 with 1 Axes>"
      ]
     },
     "metadata": {},
     "output_type": "display_data"
    }
   ],
   "source": [
    "plt.figure(figsize=(12,10))\n",
    "sns.set(style='darkgrid')\n",
    "ax = sns.countplot(x='rating', data=netflix_movies, palette='Set2', \n",
    "                   order=netflix_movies['rating'].value_counts().index[0:15] )"
   ]
  },
  {
   "cell_type": "code",
   "execution_count": 32,
   "id": "d5596caf",
   "metadata": {},
   "outputs": [
    {
     "data": {
      "image/png": "[encoded data removed]",
      "text/plain": [
       "<Figure size 1200x1000 with 1 Axes>"
      ]
     },
     "metadata": {},
     "output_type": "display_data"
    }
   ],
   "source": [
    "plt.figure(figsize=(12,10))\n",
    "sns.set(style='darkgrid')\n",
    "ax = sns.countplot(y='release_year', data=netflix_movies, palette='Set2',\n",
    "                  order = netflix_movies['release_year'].value_counts().index[0:15])"
   ]
  },
  {
   "cell_type": "markdown",
   "id": "e46d442f",
   "metadata": {},
   "source": [
    "# Топ 10 стран, которые выпускают фильмы"
   ]
  },
  {
   "cell_type": "code",
   "execution_count": 33,
   "id": "14317d43",
   "metadata": {},
   "outputs": [
    {
     "data": {
      "text/plain": [
       "show_id           0\n",
       "type              0\n",
       "title             0\n",
       "director        188\n",
       "cast            475\n",
       "country         440\n",
       "date_added        0\n",
       "release_year      0\n",
       "rating            2\n",
       "duration          3\n",
       "listed_in         0\n",
       "description       0\n",
       "dtype: int64"
      ]
     },
     "execution_count": 33,
     "metadata": {},
     "output_type": "execute_result"
    }
   ],
   "source": [
    "netflix_movies.isna().sum()"
   ]
  },
  {
   "cell_type": "code",
   "execution_count": 34,
   "id": "2c1ee550",
   "metadata": {},
   "outputs": [],
   "source": [
    "#440 nann"
   ]
  },
  {
   "cell_type": "code",
   "execution_count": 37,
   "id": "2a80bcde",
   "metadata": {},
   "outputs": [
    {
     "data": {
      "text/plain": [
       "0"
      ]
     },
     "execution_count": 37,
     "metadata": {},
     "output_type": "execute_result"
    }
   ],
   "source": [
    "netflix_movies['country'].fillna('Unknown').isna().sum()"
   ]
  },
  {
   "cell_type": "code",
   "execution_count": 42,
   "id": "ceb59b99",
   "metadata": {},
   "outputs": [
    {
     "data": {
      "text/plain": [
       "show_id           0\n",
       "type              0\n",
       "title             0\n",
       "director        188\n",
       "cast            475\n",
       "country           0\n",
       "date_added        0\n",
       "release_year      0\n",
       "rating            2\n",
       "duration          3\n",
       "listed_in         0\n",
       "description       0\n",
       "dtype: int64"
      ]
     },
     "execution_count": 42,
     "metadata": {},
     "output_type": "execute_result"
    }
   ],
   "source": [
    "netflix_movies['country'].fillna('Unknown',inplace = True)\n",
    "netflix_movies.isna().sum()"
   ]
  },
  {
   "cell_type": "code",
   "execution_count": 43,
   "id": "1fa6c458",
   "metadata": {},
   "outputs": [
    {
     "data": {
      "text/html": [
       "<div>\n",
       "<style scoped>\n",
       "    .dataframe tbody tr th:only-of-type {\n",
       "        vertical-align: middle;\n",
       "    }\n",
       "\n",
       "    .dataframe tbody tr th {\n",
       "        vertical-align: top;\n",
       "    }\n",
       "\n",
       "    .dataframe thead th {\n",
       "        text-align: right;\n",
       "    }\n",
       "</style>\n",
       "<table border=\"1\" class=\"dataframe\">\n",
       "  <thead>\n",
       "    <tr style=\"text-align: right;\">\n",
       "      <th></th>\n",
       "      <th>show_id</th>\n",
       "      <th>type</th>\n",
       "      <th>title</th>\n",
       "      <th>director</th>\n",
       "      <th>cast</th>\n",
       "      <th>country</th>\n",
       "      <th>date_added</th>\n",
       "      <th>release_year</th>\n",
       "      <th>rating</th>\n",
       "      <th>duration</th>\n",
       "      <th>listed_in</th>\n",
       "      <th>description</th>\n",
       "    </tr>\n",
       "  </thead>\n",
       "  <tbody>\n",
       "    <tr>\n",
       "      <th>6</th>\n",
       "      <td>s7</td>\n",
       "      <td>Movie</td>\n",
       "      <td>My Little Pony: A New Generation</td>\n",
       "      <td>Robert Cullen, José Luis Ucha</td>\n",
       "      <td>Vanessa Hudgens, Kimiko Glenn, James Marsden, ...</td>\n",
       "      <td>Unknown</td>\n",
       "      <td>September 24, 2021</td>\n",
       "      <td>2021</td>\n",
       "      <td>PG</td>\n",
       "      <td>91 min</td>\n",
       "      <td>Children &amp; Family Movies</td>\n",
       "      <td>Equestria's divided. But a bright-eyed hero be...</td>\n",
       "    </tr>\n",
       "    <tr>\n",
       "      <th>13</th>\n",
       "      <td>s14</td>\n",
       "      <td>Movie</td>\n",
       "      <td>Confessions of an Invisible Girl</td>\n",
       "      <td>Bruno Garotti</td>\n",
       "      <td>Klara Castanho, Lucca Picon, Júlia Gomes, Marc...</td>\n",
       "      <td>Unknown</td>\n",
       "      <td>September 22, 2021</td>\n",
       "      <td>2021</td>\n",
       "      <td>TV-PG</td>\n",
       "      <td>91 min</td>\n",
       "      <td>Children &amp; Family Movies, Comedies</td>\n",
       "      <td>When the clever but socially-awkward Tetê join...</td>\n",
       "    </tr>\n",
       "    <tr>\n",
       "      <th>16</th>\n",
       "      <td>s17</td>\n",
       "      <td>Movie</td>\n",
       "      <td>Europe's Most Dangerous Man: Otto Skorzeny in ...</td>\n",
       "      <td>Pedro de Echave García, Pablo Azorín Williams</td>\n",
       "      <td>NaN</td>\n",
       "      <td>Unknown</td>\n",
       "      <td>September 22, 2021</td>\n",
       "      <td>2020</td>\n",
       "      <td>TV-MA</td>\n",
       "      <td>67 min</td>\n",
       "      <td>Documentaries, International Movies</td>\n",
       "      <td>Declassified documents reveal the post-WWII li...</td>\n",
       "    </tr>\n",
       "    <tr>\n",
       "      <th>18</th>\n",
       "      <td>s19</td>\n",
       "      <td>Movie</td>\n",
       "      <td>Intrusion</td>\n",
       "      <td>Adam Salky</td>\n",
       "      <td>Freida Pinto, Logan Marshall-Green, Robert Joh...</td>\n",
       "      <td>Unknown</td>\n",
       "      <td>September 22, 2021</td>\n",
       "      <td>2021</td>\n",
       "      <td>TV-14</td>\n",
       "      <td>94 min</td>\n",
       "      <td>Thrillers</td>\n",
       "      <td>After a deadly home invasion at a couple’s new...</td>\n",
       "    </tr>\n",
       "    <tr>\n",
       "      <th>22</th>\n",
       "      <td>s23</td>\n",
       "      <td>Movie</td>\n",
       "      <td>Avvai Shanmughi</td>\n",
       "      <td>K.S. Ravikumar</td>\n",
       "      <td>Kamal Hassan, Meena, Gemini Ganesan, Heera Raj...</td>\n",
       "      <td>Unknown</td>\n",
       "      <td>September 21, 2021</td>\n",
       "      <td>1996</td>\n",
       "      <td>TV-PG</td>\n",
       "      <td>161 min</td>\n",
       "      <td>Comedies, International Movies</td>\n",
       "      <td>Newly divorced and denied visitation rights wi...</td>\n",
       "    </tr>\n",
       "    <tr>\n",
       "      <th>...</th>\n",
       "      <td>...</td>\n",
       "      <td>...</td>\n",
       "      <td>...</td>\n",
       "      <td>...</td>\n",
       "      <td>...</td>\n",
       "      <td>...</td>\n",
       "      <td>...</td>\n",
       "      <td>...</td>\n",
       "      <td>...</td>\n",
       "      <td>...</td>\n",
       "      <td>...</td>\n",
       "      <td>...</td>\n",
       "    </tr>\n",
       "    <tr>\n",
       "      <th>8585</th>\n",
       "      <td>s8586</td>\n",
       "      <td>Movie</td>\n",
       "      <td>Three-Quarters Decent</td>\n",
       "      <td>Mohamed Hamdy</td>\n",
       "      <td>Mohamed Ragab, Lamitta Frangieh, Mohsen Mansou...</td>\n",
       "      <td>Unknown</td>\n",
       "      <td>June 20, 2019</td>\n",
       "      <td>2010</td>\n",
       "      <td>TV-14</td>\n",
       "      <td>96 min</td>\n",
       "      <td>Comedies, Dramas, International Movies</td>\n",
       "      <td>Determined to fight corruption in his country,...</td>\n",
       "    </tr>\n",
       "    <tr>\n",
       "      <th>8602</th>\n",
       "      <td>s8603</td>\n",
       "      <td>Movie</td>\n",
       "      <td>Tom and Jerry: The Magic Ring</td>\n",
       "      <td>Phil Roman</td>\n",
       "      <td>Richard Kind, Dana Hill, Anndi McAfee, Tony Ja...</td>\n",
       "      <td>Unknown</td>\n",
       "      <td>December 15, 2019</td>\n",
       "      <td>2001</td>\n",
       "      <td>TV-Y7</td>\n",
       "      <td>60 min</td>\n",
       "      <td>Children &amp; Family Movies, Comedies</td>\n",
       "      <td>When a young wizard leaves Tom to guard his pr...</td>\n",
       "    </tr>\n",
       "    <tr>\n",
       "      <th>8622</th>\n",
       "      <td>s8623</td>\n",
       "      <td>Movie</td>\n",
       "      <td>Tremors 2: Aftershocks</td>\n",
       "      <td>S.S. Wilson</td>\n",
       "      <td>Fred Ward, Chris Gartin, Helen Shaver, Michael...</td>\n",
       "      <td>Unknown</td>\n",
       "      <td>January 1, 2020</td>\n",
       "      <td>1995</td>\n",
       "      <td>PG-13</td>\n",
       "      <td>100 min</td>\n",
       "      <td>Comedies, Horror Movies, Sci-Fi &amp; Fantasy</td>\n",
       "      <td>A rag-tag team of survivalists and scientists ...</td>\n",
       "    </tr>\n",
       "    <tr>\n",
       "      <th>8718</th>\n",
       "      <td>s8719</td>\n",
       "      <td>Movie</td>\n",
       "      <td>Westside vs. the World</td>\n",
       "      <td>Michael Fahey</td>\n",
       "      <td>Ron Perlman, Louie Simmons</td>\n",
       "      <td>Unknown</td>\n",
       "      <td>August 9, 2019</td>\n",
       "      <td>2019</td>\n",
       "      <td>TV-MA</td>\n",
       "      <td>96 min</td>\n",
       "      <td>Documentaries, Sports Movies</td>\n",
       "      <td>A look into the journey of influential strengt...</td>\n",
       "    </tr>\n",
       "    <tr>\n",
       "      <th>8759</th>\n",
       "      <td>s8760</td>\n",
       "      <td>Movie</td>\n",
       "      <td>World's Weirdest Homes</td>\n",
       "      <td>Storm Theunissen</td>\n",
       "      <td>Charlie Luxton</td>\n",
       "      <td>Unknown</td>\n",
       "      <td>February 1, 2019</td>\n",
       "      <td>2015</td>\n",
       "      <td>TV-PG</td>\n",
       "      <td>49 min</td>\n",
       "      <td>Movies</td>\n",
       "      <td>From a bubble-shaped palace to an island built...</td>\n",
       "    </tr>\n",
       "  </tbody>\n",
       "</table>\n",
       "<p>440 rows × 12 columns</p>\n",
       "</div>"
      ],
      "text/plain": [
       "     show_id   type                                              title  \\\n",
       "6         s7  Movie                   My Little Pony: A New Generation   \n",
       "13       s14  Movie                   Confessions of an Invisible Girl   \n",
       "16       s17  Movie  Europe's Most Dangerous Man: Otto Skorzeny in ...   \n",
       "18       s19  Movie                                          Intrusion   \n",
       "22       s23  Movie                                    Avvai Shanmughi   \n",
       "...      ...    ...                                                ...   \n",
       "8585   s8586  Movie                              Three-Quarters Decent   \n",
       "8602   s8603  Movie                      Tom and Jerry: The Magic Ring   \n",
       "8622   s8623  Movie                             Tremors 2: Aftershocks   \n",
       "8718   s8719  Movie                             Westside vs. the World   \n",
       "8759   s8760  Movie                             World's Weirdest Homes   \n",
       "\n",
       "                                           director  \\\n",
       "6                     Robert Cullen, José Luis Ucha   \n",
       "13                                    Bruno Garotti   \n",
       "16    Pedro de Echave García, Pablo Azorín Williams   \n",
       "18                                       Adam Salky   \n",
       "22                                   K.S. Ravikumar   \n",
       "...                                             ...   \n",
       "8585                                  Mohamed Hamdy   \n",
       "8602                                     Phil Roman   \n",
       "8622                                    S.S. Wilson   \n",
       "8718                                  Michael Fahey   \n",
       "8759                               Storm Theunissen   \n",
       "\n",
       "                                                   cast  country  \\\n",
       "6     Vanessa Hudgens, Kimiko Glenn, James Marsden, ...  Unknown   \n",
       "13    Klara Castanho, Lucca Picon, Júlia Gomes, Marc...  Unknown   \n",
       "16                                                  NaN  Unknown   \n",
       "18    Freida Pinto, Logan Marshall-Green, Robert Joh...  Unknown   \n",
       "22    Kamal Hassan, Meena, Gemini Ganesan, Heera Raj...  Unknown   \n",
       "...                                                 ...      ...   \n",
       "8585  Mohamed Ragab, Lamitta Frangieh, Mohsen Mansou...  Unknown   \n",
       "8602  Richard Kind, Dana Hill, Anndi McAfee, Tony Ja...  Unknown   \n",
       "8622  Fred Ward, Chris Gartin, Helen Shaver, Michael...  Unknown   \n",
       "8718                         Ron Perlman, Louie Simmons  Unknown   \n",
       "8759                                     Charlie Luxton  Unknown   \n",
       "\n",
       "              date_added  release_year rating duration  \\\n",
       "6     September 24, 2021          2021     PG   91 min   \n",
       "13    September 22, 2021          2021  TV-PG   91 min   \n",
       "16    September 22, 2021          2020  TV-MA   67 min   \n",
       "18    September 22, 2021          2021  TV-14   94 min   \n",
       "22    September 21, 2021          1996  TV-PG  161 min   \n",
       "...                  ...           ...    ...      ...   \n",
       "8585       June 20, 2019          2010  TV-14   96 min   \n",
       "8602   December 15, 2019          2001  TV-Y7   60 min   \n",
       "8622     January 1, 2020          1995  PG-13  100 min   \n",
       "8718      August 9, 2019          2019  TV-MA   96 min   \n",
       "8759    February 1, 2019          2015  TV-PG   49 min   \n",
       "\n",
       "                                      listed_in  \\\n",
       "6                      Children & Family Movies   \n",
       "13           Children & Family Movies, Comedies   \n",
       "16          Documentaries, International Movies   \n",
       "18                                    Thrillers   \n",
       "22               Comedies, International Movies   \n",
       "...                                         ...   \n",
       "8585     Comedies, Dramas, International Movies   \n",
       "8602         Children & Family Movies, Comedies   \n",
       "8622  Comedies, Horror Movies, Sci-Fi & Fantasy   \n",
       "8718               Documentaries, Sports Movies   \n",
       "8759                                     Movies   \n",
       "\n",
       "                                            description  \n",
       "6     Equestria's divided. But a bright-eyed hero be...  \n",
       "13    When the clever but socially-awkward Tetê join...  \n",
       "16    Declassified documents reveal the post-WWII li...  \n",
       "18    After a deadly home invasion at a couple’s new...  \n",
       "22    Newly divorced and denied visitation rights wi...  \n",
       "...                                                 ...  \n",
       "8585  Determined to fight corruption in his country,...  \n",
       "8602  When a young wizard leaves Tom to guard his pr...  \n",
       "8622  A rag-tag team of survivalists and scientists ...  \n",
       "8718  A look into the journey of influential strengt...  \n",
       "8759  From a bubble-shaped palace to an island built...  \n",
       "\n",
       "[440 rows x 12 columns]"
      ]
     },
     "execution_count": 43,
     "metadata": {},
     "output_type": "execute_result"
    }
   ],
   "source": [
    "netflix_movies[netflix_movies['country']=='Unknown']"
   ]
  },
  {
   "cell_type": "code",
   "execution_count": 44,
   "id": "1b007f1b",
   "metadata": {},
   "outputs": [
    {
     "data": {
      "text/plain": [
       "United States                            2058\n",
       "India                                     893\n",
       "Unknown                                   440\n",
       "United Kingdom                            206\n",
       "Canada                                    122\n",
       "                                         ... \n",
       "United Kingdom, Russia, United States       1\n",
       "Paraguay, Argentina                         1\n",
       "United Kingdom, Malawi                      1\n",
       "Austria, Iraq, United States                1\n",
       "United Arab Emirates, Jordan                1\n",
       "Name: country, Length: 652, dtype: int64"
      ]
     },
     "execution_count": 44,
     "metadata": {},
     "output_type": "execute_result"
    }
   ],
   "source": [
    "netflix_movies['country'].value_counts()"
   ]
  },
  {
   "cell_type": "markdown",
   "id": "88b46478",
   "metadata": {},
   "source": [
    "Austria, Iraq, United States нужно разделить"
   ]
  },
  {
   "cell_type": "code",
   "execution_count": 47,
   "id": "105fdb21",
   "metadata": {},
   "outputs": [],
   "source": [
    "countries_mov = {}\n",
    "\n",
    "cou = list(netflix_movies['country'])\n",
    "for i in cou:\n",
    "    i = i.replace(' ', '')\n",
    "    i = list(i.split(','))\n",
    "\n",
    "    for j in i:\n",
    "        if j in list(countries_mov.keys()):\n",
    "            countries_mov[j]+=1\n",
    "        else:\n",
    "            countries_mov[j]=1"
   ]
  },
  {
   "cell_type": "code",
   "execution_count": 48,
   "id": "5aaaf347",
   "metadata": {},
   "outputs": [
    {
     "data": {
      "text/plain": [
       "{'UnitedStates': 2752,\n",
       " 'Unknown': 440,\n",
       " 'Ghana': 5,\n",
       " 'BurkinaFaso': 1,\n",
       " 'UnitedKingdom': 534,\n",
       " 'Germany': 182,\n",
       " 'Ethiopia': 1,\n",
       " 'CzechRepublic': 16,\n",
       " 'India': 962,\n",
       " 'France': 303,\n",
       " 'China': 114,\n",
       " 'Canada': 319,\n",
       " 'SouthAfrica': 51,\n",
       " 'Japan': 119,\n",
       " 'Nigeria': 94,\n",
       " 'Spain': 171,\n",
       " 'Australia': 94,\n",
       " 'Mexico': 111,\n",
       " 'Italy': 75,\n",
       " 'Romania': 14,\n",
       " 'Argentina': 71,\n",
       " 'Venezuela': 4,\n",
       " 'HongKong': 100,\n",
       " 'Nepal': 2,\n",
       " 'NewZealand': 25,\n",
       " 'Brazil': 66,\n",
       " 'Greece': 9,\n",
       " 'Colombia': 20,\n",
       " 'Belgium': 78,\n",
       " 'Switzerland': 18,\n",
       " 'Bulgaria': 10,\n",
       " '': 6,\n",
       " 'Algeria': 3,\n",
       " 'Poland': 32,\n",
       " 'Israel': 19,\n",
       " 'SaudiArabia': 9,\n",
       " 'Thailand': 46,\n",
       " 'Indonesia': 86,\n",
       " 'Egypt': 102,\n",
       " 'Denmark': 34,\n",
       " 'Kuwait': 5,\n",
       " 'Netherlands': 42,\n",
       " 'Singapore': 18,\n",
       " 'Malaysia': 18,\n",
       " 'SouthKorea': 61,\n",
       " 'Vietnam': 7,\n",
       " 'Hungary': 10,\n",
       " 'Lebanon': 24,\n",
       " 'Syria': 2,\n",
       " 'Philippines': 80,\n",
       " 'UnitedArabEmirates': 36,\n",
       " 'Sweden': 31,\n",
       " 'Qatar': 10,\n",
       " 'Mauritius': 1,\n",
       " 'Austria': 11,\n",
       " 'Turkey': 83,\n",
       " 'Russia': 11,\n",
       " 'Taiwan': 19,\n",
       " 'Cameroon': 1,\n",
       " 'Palestine': 1,\n",
       " 'Ireland': 32,\n",
       " 'Kenya': 6,\n",
       " 'Chile': 24,\n",
       " 'Uruguay': 13,\n",
       " 'Cambodia': 6,\n",
       " 'Bangladesh': 4,\n",
       " 'Portugal': 6,\n",
       " 'CaymanIslands': 2,\n",
       " 'Norway': 21,\n",
       " 'Iceland': 8,\n",
       " 'Serbia': 7,\n",
       " 'Malta': 2,\n",
       " 'Luxembourg': 10,\n",
       " 'Namibia': 2,\n",
       " 'Angola': 1,\n",
       " 'Peru': 10,\n",
       " 'Mozambique': 1,\n",
       " 'Jordan': 7,\n",
       " 'Zimbabwe': 3,\n",
       " 'Pakistan': 20,\n",
       " 'Guatemala': 2,\n",
       " 'Senegal': 2,\n",
       " 'Finland': 7,\n",
       " 'Iraq': 2,\n",
       " 'Malawi': 1,\n",
       " 'Paraguay': 1,\n",
       " 'Iran': 4,\n",
       " 'Albania': 1,\n",
       " 'Georgia': 2,\n",
       " 'SovietUnion': 3,\n",
       " 'Morocco': 6,\n",
       " 'Slovakia': 1,\n",
       " 'WestGermany': 3,\n",
       " 'Ukraine': 1,\n",
       " 'Bermuda': 1,\n",
       " 'Ecuador': 1,\n",
       " 'Armenia': 1,\n",
       " 'Mongolia': 1,\n",
       " 'Bahamas': 1,\n",
       " 'SriLanka': 1,\n",
       " 'Latvia': 1,\n",
       " 'Liechtenstein': 1,\n",
       " 'Nicaragua': 1,\n",
       " 'Croatia': 3,\n",
       " 'Slovenia': 3,\n",
       " 'DominicanRepublic': 1,\n",
       " 'Samoa': 1,\n",
       " 'Botswana': 1,\n",
       " 'VaticanCity': 1,\n",
       " 'Jamaica': 1,\n",
       " 'Kazakhstan': 1,\n",
       " 'Lithuania': 1,\n",
       " 'Afghanistan': 1,\n",
       " 'Somalia': 1,\n",
       " 'Sudan': 1,\n",
       " 'Panama': 1,\n",
       " 'Uganda': 1,\n",
       " 'EastGermany': 1,\n",
       " 'Montenegro': 1}"
      ]
     },
     "execution_count": 48,
     "metadata": {},
     "output_type": "execute_result"
    }
   ],
   "source": [
    "countries_mov"
   ]
  },
  {
   "cell_type": "code",
   "execution_count": 49,
   "id": "3d17d2cc",
   "metadata": {},
   "outputs": [
    {
     "data": {
      "text/plain": [
       "[('UnitedStates', 2752),\n",
       " ('India', 962),\n",
       " ('UnitedKingdom', 534),\n",
       " ('Unknown', 440),\n",
       " ('Canada', 319),\n",
       " ('France', 303),\n",
       " ('Germany', 182),\n",
       " ('Spain', 171),\n",
       " ('Japan', 119),\n",
       " ('China', 114)]"
      ]
     },
     "execution_count": 49,
     "metadata": {},
     "output_type": "execute_result"
    }
   ],
   "source": [
    "countries_fin = sorted(countries_mov.items(),key = lambda item: countries_mov[item[0]], reverse=True)\n",
    "countries_fin = countries_fin[:10]\n",
    "countries_fin"
   ]
  },
  {
   "cell_type": "code",
   "execution_count": 51,
   "id": "55b73038",
   "metadata": {},
   "outputs": [
    {
     "data": {
      "text/plain": [
       "['UnitedStates',\n",
       " 'India',\n",
       " 'UnitedKingdom',\n",
       " 'Unknown',\n",
       " 'Canada',\n",
       " 'France',\n",
       " 'Germany',\n",
       " 'Spain',\n",
       " 'Japan',\n",
       " 'China']"
      ]
     },
     "execution_count": 51,
     "metadata": {},
     "output_type": "execute_result"
    }
   ],
   "source": [
    "names = [name for name,value in countries_fin]\n",
    "names"
   ]
  },
  {
   "cell_type": "code",
   "execution_count": 52,
   "id": "fa4f726e",
   "metadata": {},
   "outputs": [
    {
     "data": {
      "text/plain": [
       "[2752, 962, 534, 440, 319, 303, 182, 171, 119, 114]"
      ]
     },
     "execution_count": 52,
     "metadata": {},
     "output_type": "execute_result"
    }
   ],
   "source": [
    "values = [value for name,value in countries_fin]\n",
    "values"
   ]
  },
  {
   "cell_type": "code",
   "execution_count": 73,
   "id": "cd0589b3",
   "metadata": {},
   "outputs": [
    {
     "data": {
      "text/plain": [
       "[Text(0, 0, 'UnitedStates'),\n",
       " Text(1, 0, 'India'),\n",
       " Text(2, 0, 'UnitedKingdom'),\n",
       " Text(3, 0, 'Unknown'),\n",
       " Text(4, 0, 'Canada'),\n",
       " Text(5, 0, 'France'),\n",
       " Text(6, 0, 'Germany'),\n",
       " Text(7, 0, 'Spain'),\n",
       " Text(8, 0, 'Japan'),\n",
       " Text(9, 0, 'China')]"
      ]
     },
     "execution_count": 73,
     "metadata": {},
     "output_type": "execute_result"
    },
    {
     "data": {
      "image/png": "[encoded data removed]",
      "text/plain": [
       "<Figure size 800x800 with 1 Axes>"
      ]
     },
     "metadata": {},
     "output_type": "display_data"
    }
   ],
   "source": [
    "plt.figure(figsize=(8,8))\n",
    "ax = sns.barplot(x=names, y=values)\n",
    "ax.set_xticklabels(names, rotation = 45)"
   ]
  },
  {
   "cell_type": "markdown",
   "id": "067e1d3a",
   "metadata": {},
   "source": [
    "# Анализ жанров"
   ]
  },
  {
   "cell_type": "code",
   "execution_count": 56,
   "id": "07a6c6c9",
   "metadata": {},
   "outputs": [
    {
     "data": {
      "text/plain": [
       "0                                          Documentaries\n",
       "6                               Children & Family Movies\n",
       "7       Dramas, Independent Movies, International Movies\n",
       "9                                       Comedies, Dramas\n",
       "12                          Dramas, International Movies\n",
       "                              ...                       \n",
       "8801             Dramas, International Movies, Thrillers\n",
       "8802                      Cult Movies, Dramas, Thrillers\n",
       "8804                             Comedies, Horror Movies\n",
       "8805                  Children & Family Movies, Comedies\n",
       "8806      Dramas, International Movies, Music & Musicals\n",
       "Name: listed_in, Length: 6131, dtype: object"
      ]
     },
     "execution_count": 56,
     "metadata": {},
     "output_type": "execute_result"
    }
   ],
   "source": [
    "netflix_movies['listed_in']"
   ]
  },
  {
   "cell_type": "code",
   "execution_count": 77,
   "id": "a9a6b097",
   "metadata": {},
   "outputs": [],
   "source": [
    "from collections import Counter\n",
    "\n",
    "genres = list(netflix_movies['listed_in'])\n",
    "gen = []\n",
    "\n",
    "for i in genres:\n",
    "    i = list(i.split(','))\n",
    "    for j in i:\n",
    "        gen.append(j.replace(' ', ''))\n",
    "        \n",
    "g = Counter(gen)"
   ]
  },
  {
   "cell_type": "code",
   "execution_count": null,
   "id": "09c2f261",
   "metadata": {},
   "outputs": [],
   "source": []
  },
  {
   "cell_type": "code",
   "execution_count": null,
   "id": "37ed6ca3",
   "metadata": {},
   "outputs": [],
   "source": []
  },
  {
   "cell_type": "code",
   "execution_count": 68,
   "id": "09c50552",
   "metadata": {},
   "outputs": [],
   "source": [
    "g = sorted(g.items(), key=lambda item: g[item[0]], reverse=True)"
   ]
  },
  {
   "cell_type": "code",
   "execution_count": 69,
   "id": "253eca5a",
   "metadata": {},
   "outputs": [
    {
     "data": {
      "text/plain": [
       "['InternationalMovies',\n",
       " 'Dramas',\n",
       " 'Comedies',\n",
       " 'Documentaries',\n",
       " 'Action&Adventure',\n",
       " 'IndependentMovies',\n",
       " 'Children&FamilyMovies',\n",
       " 'RomanticMovies',\n",
       " 'Thrillers',\n",
       " 'Music&Musicals',\n",
       " 'HorrorMovies',\n",
       " 'Stand-UpComedy',\n",
       " 'Sci-Fi&Fantasy',\n",
       " 'SportsMovies',\n",
       " 'ClassicMovies',\n",
       " 'LGBTQMovies',\n",
       " 'AnimeFeatures',\n",
       " 'CultMovies',\n",
       " 'Faith&Spirituality',\n",
       " 'Movies']"
      ]
     },
     "execution_count": 69,
     "metadata": {},
     "output_type": "execute_result"
    }
   ],
   "source": [
    "genre_names = [name for name, value in g]\n",
    "genre_names"
   ]
  },
  {
   "cell_type": "code",
   "execution_count": 70,
   "id": "9402cbd7",
   "metadata": {},
   "outputs": [
    {
     "data": {
      "text/plain": [
       "[2752,\n",
       " 2427,\n",
       " 1674,\n",
       " 869,\n",
       " 859,\n",
       " 756,\n",
       " 641,\n",
       " 616,\n",
       " 577,\n",
       " 375,\n",
       " 357,\n",
       " 343,\n",
       " 243,\n",
       " 219,\n",
       " 116,\n",
       " 102,\n",
       " 71,\n",
       " 71,\n",
       " 65,\n",
       " 57]"
      ]
     },
     "execution_count": 70,
     "metadata": {},
     "output_type": "execute_result"
    }
   ],
   "source": [
    "genre_values = [value for name, value in g]\n",
    "genre_values\n",
    "\n"
   ]
  },
  {
   "cell_type": "code",
   "execution_count": 81,
   "id": "ef453e1f",
   "metadata": {},
   "outputs": [
    {
     "data": {
      "image/png": "[encoded data removed]",
      "text/plain": [
       "<Figure size 1000x1000 with 1 Axes>"
      ]
     },
     "metadata": {},
     "output_type": "display_data"
    }
   ],
   "source": [
    "fig = plt.figure(figsize = (10, 10))\n",
    "ax = sns.barplot(x=genre_names, y=genre_values)\n",
    "\n",
    "ax.set_xticklabels(genre_names, rotation=70)\n",
    "ax.set_ylabel(\"Count of movies\")\n",
    "ax.set_title(\"Genres\");"
   ]
  },
  {
   "cell_type": "markdown",
   "id": "0f63bf09",
   "metadata": {},
   "source": [
    "# Анализ сериалов"
   ]
  },
  {
   "cell_type": "code",
   "execution_count": 82,
   "id": "da4d7aaa",
   "metadata": {},
   "outputs": [
    {
     "data": {
      "text/plain": [
       "(2676, 12)"
      ]
     },
     "execution_count": 82,
     "metadata": {},
     "output_type": "execute_result"
    }
   ],
   "source": [
    "netflix_shows.shape"
   ]
  },
  {
   "cell_type": "code",
   "execution_count": 83,
   "id": "2e93dff6",
   "metadata": {},
   "outputs": [
    {
     "data": {
      "text/plain": [
       "show_id            0\n",
       "type               0\n",
       "title              0\n",
       "director        2446\n",
       "cast             350\n",
       "country          391\n",
       "date_added        10\n",
       "release_year       0\n",
       "rating             2\n",
       "duration           0\n",
       "listed_in          0\n",
       "description        0\n",
       "dtype: int64"
      ]
     },
     "execution_count": 83,
     "metadata": {},
     "output_type": "execute_result"
    }
   ],
   "source": [
    "netflix_shows.isna().sum()"
   ]
  },
  {
   "cell_type": "code",
   "execution_count": 84,
   "id": "b5f6aec8",
   "metadata": {},
   "outputs": [],
   "source": [
    "netflix_shows['country'].fillna('Unknown', inplace = True)"
   ]
  },
  {
   "cell_type": "code",
   "execution_count": 85,
   "id": "28bdeb19",
   "metadata": {},
   "outputs": [
    {
     "data": {
      "text/plain": [
       "show_id            0\n",
       "type               0\n",
       "title              0\n",
       "director        2446\n",
       "cast             350\n",
       "country            0\n",
       "date_added        10\n",
       "release_year       0\n",
       "rating             2\n",
       "duration           0\n",
       "listed_in          0\n",
       "description        0\n",
       "dtype: int64"
      ]
     },
     "execution_count": 85,
     "metadata": {},
     "output_type": "execute_result"
    }
   ],
   "source": [
    "netflix_shows.isna().sum()"
   ]
  },
  {
   "cell_type": "code",
   "execution_count": 86,
   "id": "89d275b3",
   "metadata": {},
   "outputs": [
    {
     "data": {
      "text/plain": [
       "United States                                    760\n",
       "Unknown                                          391\n",
       "United Kingdom                                   213\n",
       "Japan                                            169\n",
       "South Korea                                      158\n",
       "                                                ... \n",
       "Belarus                                            1\n",
       "United Kingdom, Australia                          1\n",
       "France, Australia, Germany                         1\n",
       "Australia, New Zealand, United States              1\n",
       "United States, France, South Korea, Indonesia      1\n",
       "Name: country, Length: 197, dtype: int64"
      ]
     },
     "execution_count": 86,
     "metadata": {},
     "output_type": "execute_result"
    }
   ],
   "source": [
    "netflix_shows['country'].value_counts()"
   ]
  },
  {
   "cell_type": "code",
   "execution_count": 114,
   "id": "ef3abe14",
   "metadata": {},
   "outputs": [],
   "source": [
    "countries_show = {}\n",
    "\n",
    "cou = list(netflix_shows['country'])\n",
    "for i in cou:\n",
    "    i = i.replace(' ', '')\n",
    "    i = list(i.split(','))\n",
    "    \n",
    "    for j in i:\n",
    "        if j in list(countries_show.keys()):\n",
    "            countries_show[j]+=1\n",
    "        else:\n",
    "            countries_show[j]=1\n",
    "\n"
   ]
  },
  {
   "cell_type": "code",
   "execution_count": 115,
   "id": "b0faa290",
   "metadata": {},
   "outputs": [
    {
     "data": {
      "text/plain": [
       "{'SouthAfrica': 11,\n",
       " 'Unknown': 391,\n",
       " 'India': 84,\n",
       " 'UnitedKingdom': 272,\n",
       " 'UnitedStates': 938,\n",
       " 'Mexico': 58,\n",
       " 'Turkey': 30,\n",
       " 'Australia': 66,\n",
       " 'Finland': 4,\n",
       " 'Nigeria': 9,\n",
       " 'Japan': 199,\n",
       " 'Belgium': 12,\n",
       " 'France': 90,\n",
       " 'SouthKorea': 170,\n",
       " 'Spain': 61,\n",
       " 'Singapore': 23,\n",
       " 'Russia': 16,\n",
       " '': 1,\n",
       " 'Ireland': 14,\n",
       " 'Italy': 25,\n",
       " 'Argentina': 20,\n",
       " 'Jordan': 2,\n",
       " 'Colombia': 32,\n",
       " 'Israel': 11,\n",
       " 'Taiwan': 70,\n",
       " 'Germany': 44,\n",
       " 'Canada': 126,\n",
       " 'Poland': 9,\n",
       " 'Thailand': 24,\n",
       " 'NewZealand': 8,\n",
       " 'Netherlands': 8,\n",
       " 'Sweden': 11,\n",
       " 'China': 48,\n",
       " 'Iceland': 3,\n",
       " 'Denmark': 14,\n",
       " 'Philippines': 3,\n",
       " 'Indonesia': 4,\n",
       " 'UnitedArabEmirates': 1,\n",
       " 'Norway': 9,\n",
       " 'CzechRepublic': 6,\n",
       " 'Lebanon': 7,\n",
       " 'Brazil': 31,\n",
       " 'Uruguay': 1,\n",
       " 'Egypt': 15,\n",
       " 'Luxembourg': 2,\n",
       " 'Senegal': 1,\n",
       " 'SaudiArabia': 4,\n",
       " 'Kuwait': 3,\n",
       " 'Belarus': 1,\n",
       " 'Chile': 5,\n",
       " 'Malta': 1,\n",
       " 'PuertoRico': 1,\n",
       " 'Austria': 1,\n",
       " 'Cyprus': 1,\n",
       " 'Malaysia': 8,\n",
       " 'Mauritius': 1,\n",
       " 'HongKong': 5,\n",
       " 'Croatia': 1,\n",
       " 'WestGermany': 2,\n",
       " 'Syria': 1,\n",
       " 'Hungary': 1,\n",
       " 'Cuba': 1,\n",
       " 'Greece': 2,\n",
       " 'Pakistan': 4,\n",
       " 'Azerbaijan': 1,\n",
       " 'Ukraine': 2,\n",
       " 'Switzerland': 1}"
      ]
     },
     "execution_count": 115,
     "metadata": {},
     "output_type": "execute_result"
    }
   ],
   "source": [
    "countries_show"
   ]
  },
  {
   "cell_type": "code",
   "execution_count": 116,
   "id": "65646be8",
   "metadata": {},
   "outputs": [
    {
     "data": {
      "text/plain": [
       "[('UnitedStates', 938),\n",
       " ('Unknown', 391),\n",
       " ('UnitedKingdom', 272),\n",
       " ('Japan', 199),\n",
       " ('SouthKorea', 170),\n",
       " ('Canada', 126),\n",
       " ('France', 90),\n",
       " ('India', 84),\n",
       " ('Taiwan', 70),\n",
       " ('Australia', 66)]"
      ]
     },
     "execution_count": 116,
     "metadata": {},
     "output_type": "execute_result"
    }
   ],
   "source": [
    "countries_fin2 = sorted(countries_show.items(), key=lambda item: countries_show[item[0]], reverse=True)\n",
    "countries_fin2 = countries_fin2[:10]\n",
    "countries_fin2"
   ]
  },
  {
   "cell_type": "code",
   "execution_count": null,
   "id": "4501cbe9",
   "metadata": {},
   "outputs": [],
   "source": []
  },
  {
   "cell_type": "code",
   "execution_count": 117,
   "id": "d3428811",
   "metadata": {},
   "outputs": [
    {
     "data": {
      "text/plain": [
       "['UnitedStates',\n",
       " 'Unknown',\n",
       " 'UnitedKingdom',\n",
       " 'Japan',\n",
       " 'SouthKorea',\n",
       " 'Canada',\n",
       " 'France',\n",
       " 'India',\n",
       " 'Taiwan',\n",
       " 'Australia']"
      ]
     },
     "execution_count": 117,
     "metadata": {},
     "output_type": "execute_result"
    }
   ],
   "source": [
    "names = [name for name, value in countries_fin2]\n",
    "names"
   ]
  },
  {
   "cell_type": "code",
   "execution_count": null,
   "id": "643aa4b6",
   "metadata": {},
   "outputs": [],
   "source": []
  },
  {
   "cell_type": "code",
   "execution_count": 118,
   "id": "55f769b9",
   "metadata": {},
   "outputs": [
    {
     "data": {
      "text/plain": [
       "[938, 391, 272, 199, 170, 126, 90, 84, 70, 66]"
      ]
     },
     "execution_count": 118,
     "metadata": {},
     "output_type": "execute_result"
    }
   ],
   "source": [
    "values = [value for name, value in countries_fin2]\n",
    "values"
   ]
  },
  {
   "cell_type": "code",
   "execution_count": 119,
   "id": "18fcd856",
   "metadata": {},
   "outputs": [
    {
     "data": {
      "image/png": "[encoded data removed]",
      "text/plain": [
       "<Figure size 800x800 with 1 Axes>"
      ]
     },
     "metadata": {},
     "output_type": "display_data"
    }
   ],
   "source": [
    "plt.figure(figsize=(8,8))\n",
    "ax = sns.barplot(x=names, y=values)\n",
    "ax.set_xticklabels(names, rotation=45);"
   ]
  },
  {
   "cell_type": "markdown",
   "id": "26474cfd",
   "metadata": {},
   "source": [
    "# Сериалы с большим количеством сезонов"
   ]
  },
  {
   "cell_type": "code",
   "execution_count": 125,
   "id": "fa84fb8c",
   "metadata": {},
   "outputs": [
    {
     "data": {
      "text/html": [
       "<div>\n",
       "<style scoped>\n",
       "    .dataframe tbody tr th:only-of-type {\n",
       "        vertical-align: middle;\n",
       "    }\n",
       "\n",
       "    .dataframe tbody tr th {\n",
       "        vertical-align: top;\n",
       "    }\n",
       "\n",
       "    .dataframe thead th {\n",
       "        text-align: right;\n",
       "    }\n",
       "</style>\n",
       "<table border=\"1\" class=\"dataframe\">\n",
       "  <thead>\n",
       "    <tr style=\"text-align: right;\">\n",
       "      <th></th>\n",
       "      <th>title</th>\n",
       "      <th>duration</th>\n",
       "    </tr>\n",
       "  </thead>\n",
       "  <tbody>\n",
       "    <tr>\n",
       "      <th>1</th>\n",
       "      <td>Blood &amp; Water</td>\n",
       "      <td>2 Seasons</td>\n",
       "    </tr>\n",
       "    <tr>\n",
       "      <th>2</th>\n",
       "      <td>Ganglands</td>\n",
       "      <td>1 Season</td>\n",
       "    </tr>\n",
       "    <tr>\n",
       "      <th>3</th>\n",
       "      <td>Jailbirds New Orleans</td>\n",
       "      <td>1 Season</td>\n",
       "    </tr>\n",
       "    <tr>\n",
       "      <th>4</th>\n",
       "      <td>Kota Factory</td>\n",
       "      <td>2 Seasons</td>\n",
       "    </tr>\n",
       "    <tr>\n",
       "      <th>5</th>\n",
       "      <td>Midnight Mass</td>\n",
       "      <td>1 Season</td>\n",
       "    </tr>\n",
       "    <tr>\n",
       "      <th>...</th>\n",
       "      <td>...</td>\n",
       "      <td>...</td>\n",
       "    </tr>\n",
       "    <tr>\n",
       "      <th>8795</th>\n",
       "      <td>Yu-Gi-Oh! Arc-V</td>\n",
       "      <td>2 Seasons</td>\n",
       "    </tr>\n",
       "    <tr>\n",
       "      <th>8796</th>\n",
       "      <td>Yunus Emre</td>\n",
       "      <td>2 Seasons</td>\n",
       "    </tr>\n",
       "    <tr>\n",
       "      <th>8797</th>\n",
       "      <td>Zak Storm</td>\n",
       "      <td>3 Seasons</td>\n",
       "    </tr>\n",
       "    <tr>\n",
       "      <th>8800</th>\n",
       "      <td>Zindagi Gulzar Hai</td>\n",
       "      <td>1 Season</td>\n",
       "    </tr>\n",
       "    <tr>\n",
       "      <th>8803</th>\n",
       "      <td>Zombie Dumb</td>\n",
       "      <td>2 Seasons</td>\n",
       "    </tr>\n",
       "  </tbody>\n",
       "</table>\n",
       "<p>2676 rows × 2 columns</p>\n",
       "</div>"
      ],
      "text/plain": [
       "                      title   duration\n",
       "1             Blood & Water  2 Seasons\n",
       "2                 Ganglands   1 Season\n",
       "3     Jailbirds New Orleans   1 Season\n",
       "4              Kota Factory  2 Seasons\n",
       "5             Midnight Mass   1 Season\n",
       "...                     ...        ...\n",
       "8795        Yu-Gi-Oh! Arc-V  2 Seasons\n",
       "8796             Yunus Emre  2 Seasons\n",
       "8797              Zak Storm  3 Seasons\n",
       "8800     Zindagi Gulzar Hai   1 Season\n",
       "8803            Zombie Dumb  2 Seasons\n",
       "\n",
       "[2676 rows x 2 columns]"
      ]
     },
     "execution_count": 125,
     "metadata": {},
     "output_type": "execute_result"
    }
   ],
   "source": [
    "features = ['title', 'duration']\n",
    "durations = netflix_shows[features]\n",
    "durations"
   ]
  },
  {
   "cell_type": "code",
   "execution_count": 128,
   "id": "36a39641",
   "metadata": {},
   "outputs": [
    {
     "name": "stderr",
     "output_type": "stream",
     "text": [
      "C:\\Users\\madiy\\AppData\\Local\\Temp\\ipykernel_13276\\1690007643.py:1: SettingWithCopyWarning: \n",
      "A value is trying to be set on a copy of a slice from a DataFrame.\n",
      "Try using .loc[row_indexer,col_indexer] = value instead\n",
      "\n",
      "See the caveats in the documentation: https://pandas.pydata.org/pandas-docs/stable/user_guide/indexing.html#returning-a-view-versus-a-copy\n",
      "  durations['no_of_seasons'] = durations['duration'].str.replace(' Season','')\n"
     ]
    },
    {
     "data": {
      "text/html": [
       "<div>\n",
       "<style scoped>\n",
       "    .dataframe tbody tr th:only-of-type {\n",
       "        vertical-align: middle;\n",
       "    }\n",
       "\n",
       "    .dataframe tbody tr th {\n",
       "        vertical-align: top;\n",
       "    }\n",
       "\n",
       "    .dataframe thead th {\n",
       "        text-align: right;\n",
       "    }\n",
       "</style>\n",
       "<table border=\"1\" class=\"dataframe\">\n",
       "  <thead>\n",
       "    <tr style=\"text-align: right;\">\n",
       "      <th></th>\n",
       "      <th>title</th>\n",
       "      <th>duration</th>\n",
       "      <th>number_of_sesons</th>\n",
       "      <th>no_of_seasons</th>\n",
       "    </tr>\n",
       "  </thead>\n",
       "  <tbody>\n",
       "    <tr>\n",
       "      <th>1</th>\n",
       "      <td>Blood &amp; Water</td>\n",
       "      <td>2 Seasons</td>\n",
       "      <td>2 Seaon</td>\n",
       "      <td>2s</td>\n",
       "    </tr>\n",
       "    <tr>\n",
       "      <th>2</th>\n",
       "      <td>Ganglands</td>\n",
       "      <td>1 Season</td>\n",
       "      <td>1 Seaon</td>\n",
       "      <td>1</td>\n",
       "    </tr>\n",
       "    <tr>\n",
       "      <th>3</th>\n",
       "      <td>Jailbirds New Orleans</td>\n",
       "      <td>1 Season</td>\n",
       "      <td>1 Seaon</td>\n",
       "      <td>1</td>\n",
       "    </tr>\n",
       "    <tr>\n",
       "      <th>4</th>\n",
       "      <td>Kota Factory</td>\n",
       "      <td>2 Seasons</td>\n",
       "      <td>2 Seaon</td>\n",
       "      <td>2s</td>\n",
       "    </tr>\n",
       "    <tr>\n",
       "      <th>5</th>\n",
       "      <td>Midnight Mass</td>\n",
       "      <td>1 Season</td>\n",
       "      <td>1 Seaon</td>\n",
       "      <td>1</td>\n",
       "    </tr>\n",
       "    <tr>\n",
       "      <th>...</th>\n",
       "      <td>...</td>\n",
       "      <td>...</td>\n",
       "      <td>...</td>\n",
       "      <td>...</td>\n",
       "    </tr>\n",
       "    <tr>\n",
       "      <th>8795</th>\n",
       "      <td>Yu-Gi-Oh! Arc-V</td>\n",
       "      <td>2 Seasons</td>\n",
       "      <td>2 Seaon</td>\n",
       "      <td>2s</td>\n",
       "    </tr>\n",
       "    <tr>\n",
       "      <th>8796</th>\n",
       "      <td>Yunus Emre</td>\n",
       "      <td>2 Seasons</td>\n",
       "      <td>2 Seaon</td>\n",
       "      <td>2s</td>\n",
       "    </tr>\n",
       "    <tr>\n",
       "      <th>8797</th>\n",
       "      <td>Zak Storm</td>\n",
       "      <td>3 Seasons</td>\n",
       "      <td>3 Seaon</td>\n",
       "      <td>3s</td>\n",
       "    </tr>\n",
       "    <tr>\n",
       "      <th>8800</th>\n",
       "      <td>Zindagi Gulzar Hai</td>\n",
       "      <td>1 Season</td>\n",
       "      <td>1 Seaon</td>\n",
       "      <td>1</td>\n",
       "    </tr>\n",
       "    <tr>\n",
       "      <th>8803</th>\n",
       "      <td>Zombie Dumb</td>\n",
       "      <td>2 Seasons</td>\n",
       "      <td>2 Seaon</td>\n",
       "      <td>2s</td>\n",
       "    </tr>\n",
       "  </tbody>\n",
       "</table>\n",
       "<p>2676 rows × 4 columns</p>\n",
       "</div>"
      ],
      "text/plain": [
       "                      title   duration number_of_sesons no_of_seasons\n",
       "1             Blood & Water  2 Seasons          2 Seaon            2s\n",
       "2                 Ganglands   1 Season          1 Seaon             1\n",
       "3     Jailbirds New Orleans   1 Season          1 Seaon             1\n",
       "4              Kota Factory  2 Seasons          2 Seaon            2s\n",
       "5             Midnight Mass   1 Season          1 Seaon             1\n",
       "...                     ...        ...              ...           ...\n",
       "8795        Yu-Gi-Oh! Arc-V  2 Seasons          2 Seaon            2s\n",
       "8796             Yunus Emre  2 Seasons          2 Seaon            2s\n",
       "8797              Zak Storm  3 Seasons          3 Seaon            3s\n",
       "8800     Zindagi Gulzar Hai   1 Season          1 Seaon             1\n",
       "8803            Zombie Dumb  2 Seasons          2 Seaon            2s\n",
       "\n",
       "[2676 rows x 4 columns]"
      ]
     },
     "execution_count": 128,
     "metadata": {},
     "output_type": "execute_result"
    }
   ],
   "source": [
    "durations['no_of_seasons'] = durations['duration'].str.replace(' Season','')\n",
    "durations"
   ]
  },
  {
   "cell_type": "code",
   "execution_count": 130,
   "id": "c167097a",
   "metadata": {},
   "outputs": [
    {
     "name": "stderr",
     "output_type": "stream",
     "text": [
      "C:\\Users\\madiy\\AppData\\Local\\Temp\\ipykernel_13276\\334835126.py:1: SettingWithCopyWarning: \n",
      "A value is trying to be set on a copy of a slice from a DataFrame.\n",
      "Try using .loc[row_indexer,col_indexer] = value instead\n",
      "\n",
      "See the caveats in the documentation: https://pandas.pydata.org/pandas-docs/stable/user_guide/indexing.html#returning-a-view-versus-a-copy\n",
      "  durations['no_of_seasons'] = durations['no_of_seasons'].str.replace('s', '')\n"
     ]
    },
    {
     "data": {
      "text/html": [
       "<div>\n",
       "<style scoped>\n",
       "    .dataframe tbody tr th:only-of-type {\n",
       "        vertical-align: middle;\n",
       "    }\n",
       "\n",
       "    .dataframe tbody tr th {\n",
       "        vertical-align: top;\n",
       "    }\n",
       "\n",
       "    .dataframe thead th {\n",
       "        text-align: right;\n",
       "    }\n",
       "</style>\n",
       "<table border=\"1\" class=\"dataframe\">\n",
       "  <thead>\n",
       "    <tr style=\"text-align: right;\">\n",
       "      <th></th>\n",
       "      <th>title</th>\n",
       "      <th>duration</th>\n",
       "      <th>number_of_sesons</th>\n",
       "      <th>no_of_seasons</th>\n",
       "    </tr>\n",
       "  </thead>\n",
       "  <tbody>\n",
       "    <tr>\n",
       "      <th>1</th>\n",
       "      <td>Blood &amp; Water</td>\n",
       "      <td>2 Seasons</td>\n",
       "      <td>2 Seaon</td>\n",
       "      <td>2</td>\n",
       "    </tr>\n",
       "    <tr>\n",
       "      <th>2</th>\n",
       "      <td>Ganglands</td>\n",
       "      <td>1 Season</td>\n",
       "      <td>1 Seaon</td>\n",
       "      <td>1</td>\n",
       "    </tr>\n",
       "    <tr>\n",
       "      <th>3</th>\n",
       "      <td>Jailbirds New Orleans</td>\n",
       "      <td>1 Season</td>\n",
       "      <td>1 Seaon</td>\n",
       "      <td>1</td>\n",
       "    </tr>\n",
       "    <tr>\n",
       "      <th>4</th>\n",
       "      <td>Kota Factory</td>\n",
       "      <td>2 Seasons</td>\n",
       "      <td>2 Seaon</td>\n",
       "      <td>2</td>\n",
       "    </tr>\n",
       "    <tr>\n",
       "      <th>5</th>\n",
       "      <td>Midnight Mass</td>\n",
       "      <td>1 Season</td>\n",
       "      <td>1 Seaon</td>\n",
       "      <td>1</td>\n",
       "    </tr>\n",
       "    <tr>\n",
       "      <th>...</th>\n",
       "      <td>...</td>\n",
       "      <td>...</td>\n",
       "      <td>...</td>\n",
       "      <td>...</td>\n",
       "    </tr>\n",
       "    <tr>\n",
       "      <th>8795</th>\n",
       "      <td>Yu-Gi-Oh! Arc-V</td>\n",
       "      <td>2 Seasons</td>\n",
       "      <td>2 Seaon</td>\n",
       "      <td>2</td>\n",
       "    </tr>\n",
       "    <tr>\n",
       "      <th>8796</th>\n",
       "      <td>Yunus Emre</td>\n",
       "      <td>2 Seasons</td>\n",
       "      <td>2 Seaon</td>\n",
       "      <td>2</td>\n",
       "    </tr>\n",
       "    <tr>\n",
       "      <th>8797</th>\n",
       "      <td>Zak Storm</td>\n",
       "      <td>3 Seasons</td>\n",
       "      <td>3 Seaon</td>\n",
       "      <td>3</td>\n",
       "    </tr>\n",
       "    <tr>\n",
       "      <th>8800</th>\n",
       "      <td>Zindagi Gulzar Hai</td>\n",
       "      <td>1 Season</td>\n",
       "      <td>1 Seaon</td>\n",
       "      <td>1</td>\n",
       "    </tr>\n",
       "    <tr>\n",
       "      <th>8803</th>\n",
       "      <td>Zombie Dumb</td>\n",
       "      <td>2 Seasons</td>\n",
       "      <td>2 Seaon</td>\n",
       "      <td>2</td>\n",
       "    </tr>\n",
       "  </tbody>\n",
       "</table>\n",
       "<p>2676 rows × 4 columns</p>\n",
       "</div>"
      ],
      "text/plain": [
       "                      title   duration number_of_sesons no_of_seasons\n",
       "1             Blood & Water  2 Seasons          2 Seaon             2\n",
       "2                 Ganglands   1 Season          1 Seaon             1\n",
       "3     Jailbirds New Orleans   1 Season          1 Seaon             1\n",
       "4              Kota Factory  2 Seasons          2 Seaon             2\n",
       "5             Midnight Mass   1 Season          1 Seaon             1\n",
       "...                     ...        ...              ...           ...\n",
       "8795        Yu-Gi-Oh! Arc-V  2 Seasons          2 Seaon             2\n",
       "8796             Yunus Emre  2 Seasons          2 Seaon             2\n",
       "8797              Zak Storm  3 Seasons          3 Seaon             3\n",
       "8800     Zindagi Gulzar Hai   1 Season          1 Seaon             1\n",
       "8803            Zombie Dumb  2 Seasons          2 Seaon             2\n",
       "\n",
       "[2676 rows x 4 columns]"
      ]
     },
     "execution_count": 130,
     "metadata": {},
     "output_type": "execute_result"
    }
   ],
   "source": [
    "durations['no_of_seasons'] = durations['no_of_seasons'].str.replace('s', '')\n",
    "durations"
   ]
  },
  {
   "cell_type": "markdown",
   "id": "763dd3a1",
   "metadata": {},
   "source": [
    "str -> int"
   ]
  },
  {
   "cell_type": "code",
   "execution_count": 131,
   "id": "57b4bad0",
   "metadata": {},
   "outputs": [
    {
     "name": "stderr",
     "output_type": "stream",
     "text": [
      "C:\\Users\\madiy\\AppData\\Local\\Temp\\ipykernel_13276\\1104603247.py:1: SettingWithCopyWarning: \n",
      "A value is trying to be set on a copy of a slice from a DataFrame.\n",
      "Try using .loc[row_indexer,col_indexer] = value instead\n",
      "\n",
      "See the caveats in the documentation: https://pandas.pydata.org/pandas-docs/stable/user_guide/indexing.html#returning-a-view-versus-a-copy\n",
      "  durations['no_of_seasons'] = durations['no_of_seasons'].astype(str).astype(int)\n"
     ]
    },
    {
     "data": {
      "text/html": [
       "<div>\n",
       "<style scoped>\n",
       "    .dataframe tbody tr th:only-of-type {\n",
       "        vertical-align: middle;\n",
       "    }\n",
       "\n",
       "    .dataframe tbody tr th {\n",
       "        vertical-align: top;\n",
       "    }\n",
       "\n",
       "    .dataframe thead th {\n",
       "        text-align: right;\n",
       "    }\n",
       "</style>\n",
       "<table border=\"1\" class=\"dataframe\">\n",
       "  <thead>\n",
       "    <tr style=\"text-align: right;\">\n",
       "      <th></th>\n",
       "      <th>title</th>\n",
       "      <th>duration</th>\n",
       "      <th>number_of_sesons</th>\n",
       "      <th>no_of_seasons</th>\n",
       "    </tr>\n",
       "  </thead>\n",
       "  <tbody>\n",
       "    <tr>\n",
       "      <th>1</th>\n",
       "      <td>Blood &amp; Water</td>\n",
       "      <td>2 Seasons</td>\n",
       "      <td>2 Seaon</td>\n",
       "      <td>2</td>\n",
       "    </tr>\n",
       "    <tr>\n",
       "      <th>2</th>\n",
       "      <td>Ganglands</td>\n",
       "      <td>1 Season</td>\n",
       "      <td>1 Seaon</td>\n",
       "      <td>1</td>\n",
       "    </tr>\n",
       "    <tr>\n",
       "      <th>3</th>\n",
       "      <td>Jailbirds New Orleans</td>\n",
       "      <td>1 Season</td>\n",
       "      <td>1 Seaon</td>\n",
       "      <td>1</td>\n",
       "    </tr>\n",
       "    <tr>\n",
       "      <th>4</th>\n",
       "      <td>Kota Factory</td>\n",
       "      <td>2 Seasons</td>\n",
       "      <td>2 Seaon</td>\n",
       "      <td>2</td>\n",
       "    </tr>\n",
       "    <tr>\n",
       "      <th>5</th>\n",
       "      <td>Midnight Mass</td>\n",
       "      <td>1 Season</td>\n",
       "      <td>1 Seaon</td>\n",
       "      <td>1</td>\n",
       "    </tr>\n",
       "    <tr>\n",
       "      <th>...</th>\n",
       "      <td>...</td>\n",
       "      <td>...</td>\n",
       "      <td>...</td>\n",
       "      <td>...</td>\n",
       "    </tr>\n",
       "    <tr>\n",
       "      <th>8795</th>\n",
       "      <td>Yu-Gi-Oh! Arc-V</td>\n",
       "      <td>2 Seasons</td>\n",
       "      <td>2 Seaon</td>\n",
       "      <td>2</td>\n",
       "    </tr>\n",
       "    <tr>\n",
       "      <th>8796</th>\n",
       "      <td>Yunus Emre</td>\n",
       "      <td>2 Seasons</td>\n",
       "      <td>2 Seaon</td>\n",
       "      <td>2</td>\n",
       "    </tr>\n",
       "    <tr>\n",
       "      <th>8797</th>\n",
       "      <td>Zak Storm</td>\n",
       "      <td>3 Seasons</td>\n",
       "      <td>3 Seaon</td>\n",
       "      <td>3</td>\n",
       "    </tr>\n",
       "    <tr>\n",
       "      <th>8800</th>\n",
       "      <td>Zindagi Gulzar Hai</td>\n",
       "      <td>1 Season</td>\n",
       "      <td>1 Seaon</td>\n",
       "      <td>1</td>\n",
       "    </tr>\n",
       "    <tr>\n",
       "      <th>8803</th>\n",
       "      <td>Zombie Dumb</td>\n",
       "      <td>2 Seasons</td>\n",
       "      <td>2 Seaon</td>\n",
       "      <td>2</td>\n",
       "    </tr>\n",
       "  </tbody>\n",
       "</table>\n",
       "<p>2676 rows × 4 columns</p>\n",
       "</div>"
      ],
      "text/plain": [
       "                      title   duration number_of_sesons  no_of_seasons\n",
       "1             Blood & Water  2 Seasons          2 Seaon              2\n",
       "2                 Ganglands   1 Season          1 Seaon              1\n",
       "3     Jailbirds New Orleans   1 Season          1 Seaon              1\n",
       "4              Kota Factory  2 Seasons          2 Seaon              2\n",
       "5             Midnight Mass   1 Season          1 Seaon              1\n",
       "...                     ...        ...              ...            ...\n",
       "8795        Yu-Gi-Oh! Arc-V  2 Seasons          2 Seaon              2\n",
       "8796             Yunus Emre  2 Seasons          2 Seaon              2\n",
       "8797              Zak Storm  3 Seasons          3 Seaon              3\n",
       "8800     Zindagi Gulzar Hai   1 Season          1 Seaon              1\n",
       "8803            Zombie Dumb  2 Seasons          2 Seaon              2\n",
       "\n",
       "[2676 rows x 4 columns]"
      ]
     },
     "execution_count": 131,
     "metadata": {},
     "output_type": "execute_result"
    }
   ],
   "source": [
    "durations['no_of_seasons'] = durations['no_of_seasons'].astype(str).astype(int)\n",
    "durations"
   ]
  },
  {
   "cell_type": "code",
   "execution_count": 132,
   "id": "bbe9fd60",
   "metadata": {},
   "outputs": [
    {
     "name": "stdout",
     "output_type": "stream",
     "text": [
      "<class 'pandas.core.frame.DataFrame'>\n",
      "Int64Index: 2676 entries, 1 to 8803\n",
      "Data columns (total 4 columns):\n",
      " #   Column            Non-Null Count  Dtype \n",
      "---  ------            --------------  ----- \n",
      " 0   title             2676 non-null   object\n",
      " 1   duration          2676 non-null   object\n",
      " 2   number_of_sesons  2676 non-null   object\n",
      " 3   no_of_seasons     2676 non-null   int32 \n",
      "dtypes: int32(1), object(3)\n",
      "memory usage: 94.1+ KB\n"
     ]
    }
   ],
   "source": [
    "durations.info()"
   ]
  },
  {
   "cell_type": "code",
   "execution_count": 137,
   "id": "089defeb",
   "metadata": {},
   "outputs": [],
   "source": [
    "t = ['title', 'no_of_seasons']\n",
    "top = durations[t]\n",
    "\n",
    "top = top.sort_values(by='no_of_seasons', ascending=False)"
   ]
  },
  {
   "cell_type": "code",
   "execution_count": null,
   "id": "245b93b5",
   "metadata": {},
   "outputs": [],
   "source": []
  },
  {
   "cell_type": "code",
   "execution_count": 139,
   "id": "5be2eb83",
   "metadata": {},
   "outputs": [
    {
     "data": {
      "image/png": "[encoded data removed]",
      "text/plain": [
       "<Figure size 1200x700 with 1 Axes>"
      ]
     },
     "metadata": {},
     "output_type": "display_data"
    }
   ],
   "source": [
    "top20 = top[0:20]\n",
    "plt.figure(figsize=(12,7))\n",
    "\n",
    "plt.bar(top20['title'], top20['no_of_seasons'])\n",
    "plt.xticks(top20['title'], rotation = 70);"
   ]
  },
  {
   "cell_type": "code",
   "execution_count": 140,
   "id": "ddcc43e9",
   "metadata": {},
   "outputs": [],
   "source": [
    "bottom = top.sort_values(by='no_of_seasons')\n",
    "bottom = bottom[20:50]"
   ]
  },
  {
   "cell_type": "code",
   "execution_count": 141,
   "id": "70220c2e",
   "metadata": {},
   "outputs": [
    {
     "data": {
      "text/html": [
       "<div>\n",
       "<style scoped>\n",
       "    .dataframe tbody tr th:only-of-type {\n",
       "        vertical-align: middle;\n",
       "    }\n",
       "\n",
       "    .dataframe tbody tr th {\n",
       "        vertical-align: top;\n",
       "    }\n",
       "\n",
       "    .dataframe thead th {\n",
       "        text-align: right;\n",
       "    }\n",
       "</style>\n",
       "<table border=\"1\" class=\"dataframe\">\n",
       "  <thead>\n",
       "    <tr style=\"text-align: right;\">\n",
       "      <th></th>\n",
       "      <th>title</th>\n",
       "      <th>no_of_seasons</th>\n",
       "    </tr>\n",
       "  </thead>\n",
       "  <tbody>\n",
       "    <tr>\n",
       "      <th>1715</th>\n",
       "      <td>A Queen Is Born</td>\n",
       "      <td>1</td>\n",
       "    </tr>\n",
       "    <tr>\n",
       "      <th>3065</th>\n",
       "      <td>Messiah</td>\n",
       "      <td>1</td>\n",
       "    </tr>\n",
       "    <tr>\n",
       "      <th>2891</th>\n",
       "      <td>Gentefied</td>\n",
       "      <td>1</td>\n",
       "    </tr>\n",
       "    <tr>\n",
       "      <th>3063</th>\n",
       "      <td>Live Up To Your Name</td>\n",
       "      <td>1</td>\n",
       "    </tr>\n",
       "    <tr>\n",
       "      <th>3056</th>\n",
       "      <td>Chhota Bheem Kung Fu Dhamaka Series</td>\n",
       "      <td>1</td>\n",
       "    </tr>\n",
       "    <tr>\n",
       "      <th>3055</th>\n",
       "      <td>Cells at Work!</td>\n",
       "      <td>1</td>\n",
       "    </tr>\n",
       "    <tr>\n",
       "      <th>3053</th>\n",
       "      <td>Border Security: America's Front Line</td>\n",
       "      <td>1</td>\n",
       "    </tr>\n",
       "    <tr>\n",
       "      <th>3052</th>\n",
       "      <td>Because This Is My First Life</td>\n",
       "      <td>1</td>\n",
       "    </tr>\n",
       "    <tr>\n",
       "      <th>3050</th>\n",
       "      <td>Thieves of the Wood</td>\n",
       "      <td>1</td>\n",
       "    </tr>\n",
       "    <tr>\n",
       "      <th>3049</th>\n",
       "      <td>Sex, Explained</td>\n",
       "      <td>1</td>\n",
       "    </tr>\n",
       "    <tr>\n",
       "      <th>1722</th>\n",
       "      <td>DASH &amp; LILY</td>\n",
       "      <td>1</td>\n",
       "    </tr>\n",
       "    <tr>\n",
       "      <th>3045</th>\n",
       "      <td>Dracula</td>\n",
       "      <td>1</td>\n",
       "    </tr>\n",
       "    <tr>\n",
       "      <th>3042</th>\n",
       "      <td>Cheer</td>\n",
       "      <td>1</td>\n",
       "    </tr>\n",
       "    <tr>\n",
       "      <th>3040</th>\n",
       "      <td>Until Dawn</td>\n",
       "      <td>1</td>\n",
       "    </tr>\n",
       "    <tr>\n",
       "      <th>1723</th>\n",
       "      <td>Bakugan: Armored Alliance</td>\n",
       "      <td>1</td>\n",
       "    </tr>\n",
       "    <tr>\n",
       "      <th>3088</th>\n",
       "      <td>The Disastrous Life of Saiki K.: Reawakened</td>\n",
       "      <td>1</td>\n",
       "    </tr>\n",
       "    <tr>\n",
       "      <th>3092</th>\n",
       "      <td>Kevin Hart: Don’t F**k This Up</td>\n",
       "      <td>1</td>\n",
       "    </tr>\n",
       "    <tr>\n",
       "      <th>3095</th>\n",
       "      <td>The Bonfire of Destiny</td>\n",
       "      <td>1</td>\n",
       "    </tr>\n",
       "    <tr>\n",
       "      <th>3119</th>\n",
       "      <td>Twice Upon A Time</td>\n",
       "      <td>1</td>\n",
       "    </tr>\n",
       "    <tr>\n",
       "      <th>3117</th>\n",
       "      <td>The Witcher</td>\n",
       "      <td>1</td>\n",
       "    </tr>\n",
       "    <tr>\n",
       "      <th>3111</th>\n",
       "      <td>Agent</td>\n",
       "      <td>1</td>\n",
       "    </tr>\n",
       "    <tr>\n",
       "      <th>1706</th>\n",
       "      <td>The Minions of Midas</td>\n",
       "      <td>1</td>\n",
       "    </tr>\n",
       "    <tr>\n",
       "      <th>2922</th>\n",
       "      <td>Palazuelos mi rey</td>\n",
       "      <td>1</td>\n",
       "    </tr>\n",
       "    <tr>\n",
       "      <th>1771</th>\n",
       "      <td>Afronta! Facing It!</td>\n",
       "      <td>1</td>\n",
       "    </tr>\n",
       "    <tr>\n",
       "      <th>2920</th>\n",
       "      <td>Love Is Blind</td>\n",
       "      <td>1</td>\n",
       "    </tr>\n",
       "    <tr>\n",
       "      <th>2917</th>\n",
       "      <td>Taj Mahal 1989</td>\n",
       "      <td>1</td>\n",
       "    </tr>\n",
       "    <tr>\n",
       "      <th>2910</th>\n",
       "      <td>Talking Tom and Friends</td>\n",
       "      <td>1</td>\n",
       "    </tr>\n",
       "    <tr>\n",
       "      <th>2906</th>\n",
       "      <td>On the Real</td>\n",
       "      <td>1</td>\n",
       "    </tr>\n",
       "    <tr>\n",
       "      <th>2902</th>\n",
       "      <td>DreamWorks Shrek's Swamp Stories</td>\n",
       "      <td>1</td>\n",
       "    </tr>\n",
       "    <tr>\n",
       "      <th>2900</th>\n",
       "      <td>Spectros</td>\n",
       "      <td>1</td>\n",
       "    </tr>\n",
       "  </tbody>\n",
       "</table>\n",
       "</div>"
      ],
      "text/plain": [
       "                                            title  no_of_seasons\n",
       "1715                              A Queen Is Born              1\n",
       "3065                                      Messiah              1\n",
       "2891                                    Gentefied              1\n",
       "3063                         Live Up To Your Name              1\n",
       "3056          Chhota Bheem Kung Fu Dhamaka Series              1\n",
       "3055                               Cells at Work!              1\n",
       "3053        Border Security: America's Front Line              1\n",
       "3052                Because This Is My First Life              1\n",
       "3050                          Thieves of the Wood              1\n",
       "3049                               Sex, Explained              1\n",
       "1722                                  DASH & LILY              1\n",
       "3045                                      Dracula              1\n",
       "3042                                        Cheer              1\n",
       "3040                                   Until Dawn              1\n",
       "1723                    Bakugan: Armored Alliance              1\n",
       "3088  The Disastrous Life of Saiki K.: Reawakened              1\n",
       "3092               Kevin Hart: Don’t F**k This Up              1\n",
       "3095                       The Bonfire of Destiny              1\n",
       "3119                            Twice Upon A Time              1\n",
       "3117                                  The Witcher              1\n",
       "3111                                        Agent              1\n",
       "1706                         The Minions of Midas              1\n",
       "2922                            Palazuelos mi rey              1\n",
       "1771                          Afronta! Facing It!              1\n",
       "2920                                Love Is Blind              1\n",
       "2917                               Taj Mahal 1989              1\n",
       "2910                      Talking Tom and Friends              1\n",
       "2906                                  On the Real              1\n",
       "2902             DreamWorks Shrek's Swamp Stories              1\n",
       "2900                                     Spectros              1"
      ]
     },
     "execution_count": 141,
     "metadata": {},
     "output_type": "execute_result"
    }
   ],
   "source": [
    "bottom"
   ]
  },
  {
   "cell_type": "markdown",
   "id": "a2365802",
   "metadata": {},
   "source": [
    "# Анализ жанров сериала"
   ]
  },
  {
   "cell_type": "code",
   "execution_count": 142,
   "id": "ec63f1f3",
   "metadata": {},
   "outputs": [
    {
     "data": {
      "text/plain": [
       "1         International TV Shows, TV Dramas, TV Mysteries\n",
       "2       Crime TV Shows, International TV Shows, TV Act...\n",
       "3                                  Docuseries, Reality TV\n",
       "4       International TV Shows, Romantic TV Shows, TV ...\n",
       "5                      TV Dramas, TV Horror, TV Mysteries\n",
       "                              ...                        \n",
       "8795                               Anime Series, Kids' TV\n",
       "8796                    International TV Shows, TV Dramas\n",
       "8797                                             Kids' TV\n",
       "8800    International TV Shows, Romantic TV Shows, TV ...\n",
       "8803               Kids' TV, Korean TV Shows, TV Comedies\n",
       "Name: listed_in, Length: 2676, dtype: object"
      ]
     },
     "execution_count": 142,
     "metadata": {},
     "output_type": "execute_result"
    }
   ],
   "source": [
    "netflix_shows['listed_in']"
   ]
  },
  {
   "cell_type": "code",
   "execution_count": 143,
   "id": "fb78b3b4",
   "metadata": {},
   "outputs": [],
   "source": [
    "from collections import Counter"
   ]
  },
  {
   "cell_type": "code",
   "execution_count": 149,
   "id": "0d5ee81e",
   "metadata": {},
   "outputs": [],
   "source": [
    "genres = list(netflix_shows['listed_in'])\n",
    "gen = []\n",
    "\n",
    "for i in genres:\n",
    "    i = list(i.split(','))\n",
    "    for j in i:\n",
    "        gen.append(j.replace(' ',''))\n",
    "        \n",
    "g = Counter(gen)        "
   ]
  },
  {
   "cell_type": "code",
   "execution_count": 156,
   "id": "cc45f789",
   "metadata": {},
   "outputs": [
    {
     "data": {
      "text/plain": [
       "[('InternationalTVShows', 1351),\n",
       " ('TVDramas', 763),\n",
       " ('TVComedies', 581),\n",
       " ('CrimeTVShows', 470),\n",
       " (\"Kids'TV\", 451),\n",
       " ('Docuseries', 395),\n",
       " ('RomanticTVShows', 370),\n",
       " ('RealityTV', 255),\n",
       " ('BritishTVShows', 253),\n",
       " ('AnimeSeries', 176),\n",
       " ('Spanish-LanguageTVShows', 174),\n",
       " ('TVAction&Adventure', 168),\n",
       " ('KoreanTVShows', 151),\n",
       " ('TVMysteries', 98),\n",
       " ('Science&NatureTV', 92),\n",
       " ('TVSci-Fi&Fantasy', 84),\n",
       " ('TVHorror', 75),\n",
       " ('TeenTVShows', 69),\n",
       " ('TVThrillers', 57),\n",
       " ('Stand-UpComedy&TalkShows', 56),\n",
       " ('Classic&CultTV', 28),\n",
       " ('TVShows', 16)]"
      ]
     },
     "execution_count": 156,
     "metadata": {},
     "output_type": "execute_result"
    }
   ],
   "source": [
    "g"
   ]
  },
  {
   "cell_type": "code",
   "execution_count": null,
   "id": "d9ec7d29",
   "metadata": {},
   "outputs": [],
   "source": []
  },
  {
   "cell_type": "code",
   "execution_count": 153,
   "id": "47b1ca97",
   "metadata": {},
   "outputs": [
    {
     "data": {
      "text/plain": [
       "[('InternationalTVShows', 1351),\n",
       " ('TVDramas', 763),\n",
       " ('TVComedies', 581),\n",
       " ('CrimeTVShows', 470),\n",
       " (\"Kids'TV\", 451),\n",
       " ('Docuseries', 395),\n",
       " ('RomanticTVShows', 370),\n",
       " ('RealityTV', 255),\n",
       " ('BritishTVShows', 253),\n",
       " ('AnimeSeries', 176),\n",
       " ('Spanish-LanguageTVShows', 174),\n",
       " ('TVAction&Adventure', 168),\n",
       " ('KoreanTVShows', 151),\n",
       " ('TVMysteries', 98),\n",
       " ('Science&NatureTV', 92),\n",
       " ('TVSci-Fi&Fantasy', 84),\n",
       " ('TVHorror', 75),\n",
       " ('TeenTVShows', 69),\n",
       " ('TVThrillers', 57),\n",
       " ('Stand-UpComedy&TalkShows', 56),\n",
       " ('Classic&CultTV', 28),\n",
       " ('TVShows', 16)]"
      ]
     },
     "execution_count": 153,
     "metadata": {},
     "output_type": "execute_result"
    }
   ],
   "source": [
    "g = sorted(g.items(),key = lambda item: g[item[0]], reverse = True)\n",
    "g"
   ]
  },
  {
   "cell_type": "code",
   "execution_count": 154,
   "id": "39f81d3e",
   "metadata": {},
   "outputs": [
    {
     "data": {
      "text/plain": [
       "['InternationalTVShows',\n",
       " 'TVDramas',\n",
       " 'TVComedies',\n",
       " 'CrimeTVShows',\n",
       " \"Kids'TV\",\n",
       " 'Docuseries',\n",
       " 'RomanticTVShows',\n",
       " 'RealityTV',\n",
       " 'BritishTVShows',\n",
       " 'AnimeSeries',\n",
       " 'Spanish-LanguageTVShows',\n",
       " 'TVAction&Adventure',\n",
       " 'KoreanTVShows',\n",
       " 'TVMysteries',\n",
       " 'Science&NatureTV',\n",
       " 'TVSci-Fi&Fantasy',\n",
       " 'TVHorror',\n",
       " 'TeenTVShows',\n",
       " 'TVThrillers',\n",
       " 'Stand-UpComedy&TalkShows',\n",
       " 'Classic&CultTV',\n",
       " 'TVShows']"
      ]
     },
     "execution_count": 154,
     "metadata": {},
     "output_type": "execute_result"
    }
   ],
   "source": [
    "genre_names = [name for name,value in g]\n",
    "genre_names"
   ]
  },
  {
   "cell_type": "code",
   "execution_count": 157,
   "id": "a693ae36",
   "metadata": {},
   "outputs": [
    {
     "data": {
      "text/plain": [
       "[1351,\n",
       " 763,\n",
       " 581,\n",
       " 470,\n",
       " 451,\n",
       " 395,\n",
       " 370,\n",
       " 255,\n",
       " 253,\n",
       " 176,\n",
       " 174,\n",
       " 168,\n",
       " 151,\n",
       " 98,\n",
       " 92,\n",
       " 84,\n",
       " 75,\n",
       " 69,\n",
       " 57,\n",
       " 56,\n",
       " 28,\n",
       " 16]"
      ]
     },
     "execution_count": 157,
     "metadata": {},
     "output_type": "execute_result"
    }
   ],
   "source": [
    "genre_values = [value for name, value in g]\n",
    "genre_values"
   ]
  },
  {
   "cell_type": "code",
   "execution_count": 158,
   "id": "e1ee6cf1",
   "metadata": {},
   "outputs": [
    {
     "data": {
      "image/png": "[encoded data removed]",
      "text/plain": [
       "<Figure size 1000x1000 with 1 Axes>"
      ]
     },
     "metadata": {},
     "output_type": "display_data"
    }
   ],
   "source": [
    "fig = plt.figure(figsize = (10, 10))\n",
    "ax = sns.barplot(x=genre_names, y=genre_values)\n",
    "\n",
    "ax.set_xticklabels(genre_names, rotation=70)\n",
    "ax.set_ylabel(\"Count of TV Shows\")\n",
    "ax.set_title(\"Genres\");"
   ]
  },
  {
   "cell_type": "markdown",
   "id": "a65306ab",
   "metadata": {},
   "source": [
    "Интернациональные сериалы, драмы и комедии - топовые жанры."
   ]
  },
  {
   "cell_type": "code",
   "execution_count": 159,
   "id": "76e4aa10",
   "metadata": {},
   "outputs": [
    {
     "data": {
      "text/html": [
       "<div>\n",
       "<style scoped>\n",
       "    .dataframe tbody tr th:only-of-type {\n",
       "        vertical-align: middle;\n",
       "    }\n",
       "\n",
       "    .dataframe tbody tr th {\n",
       "        vertical-align: top;\n",
       "    }\n",
       "\n",
       "    .dataframe thead th {\n",
       "        text-align: right;\n",
       "    }\n",
       "</style>\n",
       "<table border=\"1\" class=\"dataframe\">\n",
       "  <thead>\n",
       "    <tr style=\"text-align: right;\">\n",
       "      <th></th>\n",
       "      <th>title</th>\n",
       "      <th>no_of_seasons</th>\n",
       "    </tr>\n",
       "  </thead>\n",
       "  <tbody>\n",
       "    <tr>\n",
       "      <th>1</th>\n",
       "      <td>Blood &amp; Water</td>\n",
       "      <td>2</td>\n",
       "    </tr>\n",
       "    <tr>\n",
       "      <th>2</th>\n",
       "      <td>Ganglands</td>\n",
       "      <td>1</td>\n",
       "    </tr>\n",
       "    <tr>\n",
       "      <th>3</th>\n",
       "      <td>Jailbirds New Orleans</td>\n",
       "      <td>1</td>\n",
       "    </tr>\n",
       "    <tr>\n",
       "      <th>4</th>\n",
       "      <td>Kota Factory</td>\n",
       "      <td>2</td>\n",
       "    </tr>\n",
       "    <tr>\n",
       "      <th>5</th>\n",
       "      <td>Midnight Mass</td>\n",
       "      <td>1</td>\n",
       "    </tr>\n",
       "    <tr>\n",
       "      <th>...</th>\n",
       "      <td>...</td>\n",
       "      <td>...</td>\n",
       "    </tr>\n",
       "    <tr>\n",
       "      <th>8795</th>\n",
       "      <td>Yu-Gi-Oh! Arc-V</td>\n",
       "      <td>2</td>\n",
       "    </tr>\n",
       "    <tr>\n",
       "      <th>8796</th>\n",
       "      <td>Yunus Emre</td>\n",
       "      <td>2</td>\n",
       "    </tr>\n",
       "    <tr>\n",
       "      <th>8797</th>\n",
       "      <td>Zak Storm</td>\n",
       "      <td>3</td>\n",
       "    </tr>\n",
       "    <tr>\n",
       "      <th>8800</th>\n",
       "      <td>Zindagi Gulzar Hai</td>\n",
       "      <td>1</td>\n",
       "    </tr>\n",
       "    <tr>\n",
       "      <th>8803</th>\n",
       "      <td>Zombie Dumb</td>\n",
       "      <td>2</td>\n",
       "    </tr>\n",
       "  </tbody>\n",
       "</table>\n",
       "<p>2676 rows × 2 columns</p>\n",
       "</div>"
      ],
      "text/plain": [
       "                      title  no_of_seasons\n",
       "1             Blood & Water              2\n",
       "2                 Ganglands              1\n",
       "3     Jailbirds New Orleans              1\n",
       "4              Kota Factory              2\n",
       "5             Midnight Mass              1\n",
       "...                     ...            ...\n",
       "8795        Yu-Gi-Oh! Arc-V              2\n",
       "8796             Yunus Emre              2\n",
       "8797              Zak Storm              3\n",
       "8800     Zindagi Gulzar Hai              1\n",
       "8803            Zombie Dumb              2\n",
       "\n",
       "[2676 rows x 2 columns]"
      ]
     },
     "execution_count": 159,
     "metadata": {},
     "output_type": "execute_result"
    }
   ],
   "source": [
    "durations[t]"
   ]
  },
  {
   "cell_type": "code",
   "execution_count": 160,
   "id": "7be0c121",
   "metadata": {},
   "outputs": [
    {
     "name": "stderr",
     "output_type": "stream",
     "text": [
      "C:\\Users\\madiy\\AppData\\Local\\Temp\\ipykernel_13276\\3356407789.py:3: FutureWarning: \n",
      "\n",
      "`shade` is now deprecated in favor of `fill`; setting `fill=True`.\n",
      "This will become an error in seaborn v0.14.0; please update your code.\n",
      "\n",
      "  sns.kdeplot(data=durations['no_of_seasons'], shade=True)\n"
     ]
    },
    {
     "data": {
      "image/png": "[encoded data removed]",
      "text/plain": [
       "<Figure size 1000x800 with 1 Axes>"
      ]
     },
     "metadata": {},
     "output_type": "display_data"
    }
   ],
   "source": [
    "sns.set(style=\"darkgrid\")\n",
    "plt.figure(figsize=(10, 8))\n",
    "sns.kdeplot(data=durations['no_of_seasons'], shade=True)\n",
    "plt.xticks(sorted(durations['no_of_seasons'].unique()));"
   ]
  },
  {
   "cell_type": "markdown",
   "id": "9ce936a4",
   "metadata": {},
   "source": [
    "# System Reccomendation"
   ]
  },
  {
   "cell_type": "code",
   "execution_count": 162,
   "id": "59c580af",
   "metadata": {},
   "outputs": [
    {
     "data": {
      "text/plain": [
       "0       As her father nears the end of his life, filmm...\n",
       "6       Equestria's divided. But a bright-eyed hero be...\n",
       "7       On a photo shoot in Ghana, an American model s...\n",
       "9       A woman adjusting to life after a loss contend...\n",
       "12      After most of her family is murdered in a terr...\n",
       "                              ...                        \n",
       "8801    Recovering alcoholic Talal wakes up inside a s...\n",
       "8802    A political cartoonist, a crime reporter and a...\n",
       "8804    Looking to survive in a world taken over by zo...\n",
       "8805    Dragged from civilian life, a former superhero...\n",
       "8806    A scrappy but poor boy worms his way into a ty...\n",
       "Name: description, Length: 6131, dtype: object"
      ]
     },
     "execution_count": 162,
     "metadata": {},
     "output_type": "execute_result"
    }
   ],
   "source": [
    "netflix_movies['description']"
   ]
  },
  {
   "cell_type": "code",
   "execution_count": 168,
   "id": "daa31595",
   "metadata": {},
   "outputs": [],
   "source": [
    "from sklearn.feature_extraction.text import TfidfVectorizer, CountVectorizer"
   ]
  },
  {
   "cell_type": "code",
   "execution_count": 169,
   "id": "f11c5965",
   "metadata": {},
   "outputs": [
    {
     "data": {
      "text/plain": [
       "<6131x15483 sparse matrix of type '<class 'numpy.float64'>'\n",
       "\twith 84408 stored elements in Compressed Sparse Row format>"
      ]
     },
     "execution_count": 169,
     "metadata": {},
     "output_type": "execute_result"
    }
   ],
   "source": [
    "tdidf = TfidfVectorizer(stop_words='english')\n",
    "tdidf_matrix = tdidf.fit_transform(netflix_movies['description'])\n",
    "tdidf_matrix"
   ]
  },
  {
   "cell_type": "code",
   "execution_count": 170,
   "id": "86a4627e",
   "metadata": {},
   "outputs": [],
   "source": [
    "from sklearn.metrics.pairwise import cosine_similarity"
   ]
  },
  {
   "cell_type": "code",
   "execution_count": 171,
   "id": "f166a2a5",
   "metadata": {},
   "outputs": [
    {
     "data": {
      "text/plain": [
       "array([[1.        , 0.        , 0.        , ..., 0.        , 0.01624469,\n",
       "        0.        ],\n",
       "       [0.        , 1.        , 0.        , ..., 0.        , 0.        ,\n",
       "        0.        ],\n",
       "       [0.        , 0.        , 1.        , ..., 0.        , 0.        ,\n",
       "        0.03650444],\n",
       "       ...,\n",
       "       [0.        , 0.        , 0.        , ..., 1.        , 0.        ,\n",
       "        0.        ],\n",
       "       [0.01624469, 0.        , 0.        , ..., 0.        , 1.        ,\n",
       "        0.        ],\n",
       "       [0.        , 0.        , 0.03650444, ..., 0.        , 0.        ,\n",
       "        1.        ]])"
      ]
     },
     "execution_count": 171,
     "metadata": {},
     "output_type": "execute_result"
    }
   ],
   "source": [
    "cosine_sim = cosine_similarity(tdidf_matrix,tdidf_matrix)\n",
    "cosine_sim"
   ]
  },
  {
   "cell_type": "code",
   "execution_count": 172,
   "id": "ee0b3b01",
   "metadata": {},
   "outputs": [
    {
     "data": {
      "text/plain": [
       "(6131, 6131)"
      ]
     },
     "execution_count": 172,
     "metadata": {},
     "output_type": "execute_result"
    }
   ],
   "source": [
    "cosine_sim.shape"
   ]
  },
  {
   "cell_type": "code",
   "execution_count": 174,
   "id": "cb987f17",
   "metadata": {},
   "outputs": [
    {
     "data": {
      "text/plain": [
       "title\n",
       "Dick Johnson Is Dead                   0\n",
       "My Little Pony: A New Generation       6\n",
       "Sankofa                                7\n",
       "The Starling                           9\n",
       "Je Suis Karl                          12\n",
       "                                    ... \n",
       "Zinzana                             8801\n",
       "Zodiac                              8802\n",
       "Zombieland                          8804\n",
       "Zoom                                8805\n",
       "Zubaan                              8806\n",
       "Length: 6131, dtype: int64"
      ]
     },
     "execution_count": 174,
     "metadata": {},
     "output_type": "execute_result"
    }
   ],
   "source": [
    "indices = pd.Series(netflix_movies.index, index=netflix_movies['title']).drop_duplicates()\n",
    "indices"
   ]
  },
  {
   "cell_type": "code",
   "execution_count": 175,
   "id": "bb23a7ee",
   "metadata": {},
   "outputs": [
    {
     "data": {
      "text/html": [
       "<div>\n",
       "<style scoped>\n",
       "    .dataframe tbody tr th:only-of-type {\n",
       "        vertical-align: middle;\n",
       "    }\n",
       "\n",
       "    .dataframe tbody tr th {\n",
       "        vertical-align: top;\n",
       "    }\n",
       "\n",
       "    .dataframe thead th {\n",
       "        text-align: right;\n",
       "    }\n",
       "</style>\n",
       "<table border=\"1\" class=\"dataframe\">\n",
       "  <thead>\n",
       "    <tr style=\"text-align: right;\">\n",
       "      <th>title</th>\n",
       "      <th>Dick Johnson Is Dead</th>\n",
       "      <th>My Little Pony: A New Generation</th>\n",
       "      <th>Sankofa</th>\n",
       "      <th>The Starling</th>\n",
       "      <th>Je Suis Karl</th>\n",
       "      <th>Confessions of an Invisible Girl</th>\n",
       "      <th>Europe's Most Dangerous Man: Otto Skorzeny in Spain</th>\n",
       "      <th>Intrusion</th>\n",
       "      <th>Avvai Shanmughi</th>\n",
       "      <th>Go! Go! Cory Carson: Chrissy Takes the Wheel</th>\n",
       "      <th>...</th>\n",
       "      <th>Young Tiger</th>\n",
       "      <th>Yours, Mine and Ours</th>\n",
       "      <th>اشتباك</th>\n",
       "      <th>Zed Plus</th>\n",
       "      <th>Zenda</th>\n",
       "      <th>Zinzana</th>\n",
       "      <th>Zodiac</th>\n",
       "      <th>Zombieland</th>\n",
       "      <th>Zoom</th>\n",
       "      <th>Zubaan</th>\n",
       "    </tr>\n",
       "    <tr>\n",
       "      <th>title</th>\n",
       "      <th></th>\n",
       "      <th></th>\n",
       "      <th></th>\n",
       "      <th></th>\n",
       "      <th></th>\n",
       "      <th></th>\n",
       "      <th></th>\n",
       "      <th></th>\n",
       "      <th></th>\n",
       "      <th></th>\n",
       "      <th></th>\n",
       "      <th></th>\n",
       "      <th></th>\n",
       "      <th></th>\n",
       "      <th></th>\n",
       "      <th></th>\n",
       "      <th></th>\n",
       "      <th></th>\n",
       "      <th></th>\n",
       "      <th></th>\n",
       "      <th></th>\n",
       "    </tr>\n",
       "  </thead>\n",
       "  <tbody>\n",
       "    <tr>\n",
       "      <th>Dick Johnson Is Dead</th>\n",
       "      <td>1.000000</td>\n",
       "      <td>0.0</td>\n",
       "      <td>0.0</td>\n",
       "      <td>0.018285</td>\n",
       "      <td>0.000000</td>\n",
       "      <td>0.0</td>\n",
       "      <td>0.014848</td>\n",
       "      <td>0.0</td>\n",
       "      <td>0.023927</td>\n",
       "      <td>0.0</td>\n",
       "      <td>...</td>\n",
       "      <td>0.0</td>\n",
       "      <td>0.02889</td>\n",
       "      <td>0.0</td>\n",
       "      <td>0.0</td>\n",
       "      <td>0.0</td>\n",
       "      <td>0.0</td>\n",
       "      <td>0.0</td>\n",
       "      <td>0.000000</td>\n",
       "      <td>0.016245</td>\n",
       "      <td>0.000000</td>\n",
       "    </tr>\n",
       "    <tr>\n",
       "      <th>My Little Pony: A New Generation</th>\n",
       "      <td>0.000000</td>\n",
       "      <td>1.0</td>\n",
       "      <td>0.0</td>\n",
       "      <td>0.000000</td>\n",
       "      <td>0.000000</td>\n",
       "      <td>0.0</td>\n",
       "      <td>0.000000</td>\n",
       "      <td>0.0</td>\n",
       "      <td>0.000000</td>\n",
       "      <td>0.0</td>\n",
       "      <td>...</td>\n",
       "      <td>0.0</td>\n",
       "      <td>0.00000</td>\n",
       "      <td>0.0</td>\n",
       "      <td>0.0</td>\n",
       "      <td>0.0</td>\n",
       "      <td>0.0</td>\n",
       "      <td>0.0</td>\n",
       "      <td>0.000000</td>\n",
       "      <td>0.000000</td>\n",
       "      <td>0.000000</td>\n",
       "    </tr>\n",
       "    <tr>\n",
       "      <th>Sankofa</th>\n",
       "      <td>0.000000</td>\n",
       "      <td>0.0</td>\n",
       "      <td>1.0</td>\n",
       "      <td>0.000000</td>\n",
       "      <td>0.000000</td>\n",
       "      <td>0.0</td>\n",
       "      <td>0.000000</td>\n",
       "      <td>0.0</td>\n",
       "      <td>0.029736</td>\n",
       "      <td>0.0</td>\n",
       "      <td>...</td>\n",
       "      <td>0.0</td>\n",
       "      <td>0.00000</td>\n",
       "      <td>0.0</td>\n",
       "      <td>0.0</td>\n",
       "      <td>0.0</td>\n",
       "      <td>0.0</td>\n",
       "      <td>0.0</td>\n",
       "      <td>0.000000</td>\n",
       "      <td>0.000000</td>\n",
       "      <td>0.036504</td>\n",
       "    </tr>\n",
       "    <tr>\n",
       "      <th>The Starling</th>\n",
       "      <td>0.018285</td>\n",
       "      <td>0.0</td>\n",
       "      <td>0.0</td>\n",
       "      <td>1.000000</td>\n",
       "      <td>0.029133</td>\n",
       "      <td>0.0</td>\n",
       "      <td>0.016294</td>\n",
       "      <td>0.0</td>\n",
       "      <td>0.000000</td>\n",
       "      <td>0.0</td>\n",
       "      <td>...</td>\n",
       "      <td>0.0</td>\n",
       "      <td>0.00000</td>\n",
       "      <td>0.0</td>\n",
       "      <td>0.0</td>\n",
       "      <td>0.0</td>\n",
       "      <td>0.0</td>\n",
       "      <td>0.0</td>\n",
       "      <td>0.061674</td>\n",
       "      <td>0.017826</td>\n",
       "      <td>0.045998</td>\n",
       "    </tr>\n",
       "    <tr>\n",
       "      <th>Je Suis Karl</th>\n",
       "      <td>0.000000</td>\n",
       "      <td>0.0</td>\n",
       "      <td>0.0</td>\n",
       "      <td>0.029133</td>\n",
       "      <td>1.000000</td>\n",
       "      <td>0.0</td>\n",
       "      <td>0.000000</td>\n",
       "      <td>0.0</td>\n",
       "      <td>0.000000</td>\n",
       "      <td>0.0</td>\n",
       "      <td>...</td>\n",
       "      <td>0.0</td>\n",
       "      <td>0.00000</td>\n",
       "      <td>0.0</td>\n",
       "      <td>0.0</td>\n",
       "      <td>0.0</td>\n",
       "      <td>0.0</td>\n",
       "      <td>0.0</td>\n",
       "      <td>0.000000</td>\n",
       "      <td>0.000000</td>\n",
       "      <td>0.028473</td>\n",
       "    </tr>\n",
       "  </tbody>\n",
       "</table>\n",
       "<p>5 rows × 6131 columns</p>\n",
       "</div>"
      ],
      "text/plain": [
       "title                             Dick Johnson Is Dead  \\\n",
       "title                                                    \n",
       "Dick Johnson Is Dead                          1.000000   \n",
       "My Little Pony: A New Generation              0.000000   \n",
       "Sankofa                                       0.000000   \n",
       "The Starling                                  0.018285   \n",
       "Je Suis Karl                                  0.000000   \n",
       "\n",
       "title                             My Little Pony: A New Generation  Sankofa  \\\n",
       "title                                                                         \n",
       "Dick Johnson Is Dead                                           0.0      0.0   \n",
       "My Little Pony: A New Generation                               1.0      0.0   \n",
       "Sankofa                                                        0.0      1.0   \n",
       "The Starling                                                   0.0      0.0   \n",
       "Je Suis Karl                                                   0.0      0.0   \n",
       "\n",
       "title                             The Starling  Je Suis Karl  \\\n",
       "title                                                          \n",
       "Dick Johnson Is Dead                  0.018285      0.000000   \n",
       "My Little Pony: A New Generation      0.000000      0.000000   \n",
       "Sankofa                               0.000000      0.000000   \n",
       "The Starling                          1.000000      0.029133   \n",
       "Je Suis Karl                          0.029133      1.000000   \n",
       "\n",
       "title                             Confessions of an Invisible Girl  \\\n",
       "title                                                                \n",
       "Dick Johnson Is Dead                                           0.0   \n",
       "My Little Pony: A New Generation                               0.0   \n",
       "Sankofa                                                        0.0   \n",
       "The Starling                                                   0.0   \n",
       "Je Suis Karl                                                   0.0   \n",
       "\n",
       "title                             Europe's Most Dangerous Man: Otto Skorzeny in Spain  \\\n",
       "title                                                                                   \n",
       "Dick Johnson Is Dead                                                       0.014848     \n",
       "My Little Pony: A New Generation                                           0.000000     \n",
       "Sankofa                                                                    0.000000     \n",
       "The Starling                                                               0.016294     \n",
       "Je Suis Karl                                                               0.000000     \n",
       "\n",
       "title                             Intrusion  Avvai Shanmughi  \\\n",
       "title                                                          \n",
       "Dick Johnson Is Dead                    0.0         0.023927   \n",
       "My Little Pony: A New Generation        0.0         0.000000   \n",
       "Sankofa                                 0.0         0.029736   \n",
       "The Starling                            0.0         0.000000   \n",
       "Je Suis Karl                            0.0         0.000000   \n",
       "\n",
       "title                             Go! Go! Cory Carson: Chrissy Takes the Wheel  \\\n",
       "title                                                                            \n",
       "Dick Johnson Is Dead                                                       0.0   \n",
       "My Little Pony: A New Generation                                           0.0   \n",
       "Sankofa                                                                    0.0   \n",
       "The Starling                                                               0.0   \n",
       "Je Suis Karl                                                               0.0   \n",
       "\n",
       "title                             ...  Young Tiger  Yours, Mine and Ours  \\\n",
       "title                             ...                                      \n",
       "Dick Johnson Is Dead              ...          0.0               0.02889   \n",
       "My Little Pony: A New Generation  ...          0.0               0.00000   \n",
       "Sankofa                           ...          0.0               0.00000   \n",
       "The Starling                      ...          0.0               0.00000   \n",
       "Je Suis Karl                      ...          0.0               0.00000   \n",
       "\n",
       "title                             اشتباك  Zed Plus  Zenda  Zinzana  Zodiac  \\\n",
       "title                                                                        \n",
       "Dick Johnson Is Dead                 0.0       0.0    0.0      0.0     0.0   \n",
       "My Little Pony: A New Generation     0.0       0.0    0.0      0.0     0.0   \n",
       "Sankofa                              0.0       0.0    0.0      0.0     0.0   \n",
       "The Starling                         0.0       0.0    0.0      0.0     0.0   \n",
       "Je Suis Karl                         0.0       0.0    0.0      0.0     0.0   \n",
       "\n",
       "title                             Zombieland      Zoom    Zubaan  \n",
       "title                                                             \n",
       "Dick Johnson Is Dead                0.000000  0.016245  0.000000  \n",
       "My Little Pony: A New Generation    0.000000  0.000000  0.000000  \n",
       "Sankofa                             0.000000  0.000000  0.036504  \n",
       "The Starling                        0.061674  0.017826  0.045998  \n",
       "Je Suis Karl                        0.000000  0.000000  0.028473  \n",
       "\n",
       "[5 rows x 6131 columns]"
      ]
     },
     "execution_count": 175,
     "metadata": {},
     "output_type": "execute_result"
    }
   ],
   "source": [
    "cosine_sim_df = pd.DataFrame(cosine_sim)\n",
    "\n",
    "cosine_sim_df.columns = indices.index\n",
    "\n",
    "cosine_sim_df['title'] = indices.index\n",
    "cosine_sim_df = cosine_sim_df.set_index('title')\n",
    "\n",
    "cosine_sim_df.head()"
   ]
  },
  {
   "cell_type": "code",
   "execution_count": 178,
   "id": "c8a4697a",
   "metadata": {},
   "outputs": [
    {
     "data": {
      "text/plain": [
       "title\n",
       "Dick Johnson Is Dead                   0\n",
       "My Little Pony: A New Generation       6\n",
       "Sankofa                                7\n",
       "The Starling                           9\n",
       "Je Suis Karl                          12\n",
       "                                    ... \n",
       "Zinzana                             8801\n",
       "Zodiac                              8802\n",
       "Zombieland                          8804\n",
       "Zoom                                8805\n",
       "Zubaan                              8806\n",
       "Length: 6131, dtype: int64"
      ]
     },
     "execution_count": 178,
     "metadata": {},
     "output_type": "execute_result"
    }
   ],
   "source": [
    "indices"
   ]
  },
  {
   "cell_type": "code",
   "execution_count": 180,
   "id": "0d229cd0",
   "metadata": {},
   "outputs": [],
   "source": [
    "def get_recommendations(title, cosine_sim=cosine_sim_df):\n",
    "    idx = indices[title]\n",
    "    \n",
    "    sim_scores = list(enumerate(cosine_sim_df.loc[title]))\n",
    "    \n",
    "    sim_scores = sorted(sim_scores, key=lambda x: x[1], reverse=True)\n",
    "    sim_scores = sim_scores[1:11]\n",
    "   \n",
    "    movie_indices = [i[0] for i in sim_scores]\n",
    "\n",
    "    return netflix_movies['title'].iloc[movie_indices]"
   ]
  },
  {
   "cell_type": "code",
   "execution_count": 184,
   "id": "627aa8d6",
   "metadata": {},
   "outputs": [
    {
     "data": {
      "text/plain": [
       "'A commercial diver becomes trapped on the ocean floor with dwindling oxygen and little hope of a timely rescue, so he tries to save himself.'"
      ]
     },
     "execution_count": 184,
     "metadata": {},
     "output_type": "execute_result"
    }
   ],
   "source": [
    "netflix_movies[netflix_movies['title'] == 'Last Breath'].description.iloc[0]"
   ]
  },
  {
   "cell_type": "code",
   "execution_count": 185,
   "id": "6ce7d44c",
   "metadata": {},
   "outputs": [
    {
     "data": {
      "text/plain": [
       "7061                                          In The Deep\n",
       "940                        Motu Patlu: Deep Sea Adventure\n",
       "2703                                               Mine 9\n",
       "6466                                       Chicken Little\n",
       "7616                               NOVA: Thai Cave Rescue\n",
       "636                                          The Ice Road\n",
       "5773    My Little Pony Equestria Girls: Legend of Ever...\n",
       "4616                                          Big Miracle\n",
       "895                                                Oxygen\n",
       "3070                                              Posesif\n",
       "Name: title, dtype: object"
      ]
     },
     "execution_count": 185,
     "metadata": {},
     "output_type": "execute_result"
    }
   ],
   "source": [
    "get_recommendations('Last Breath')"
   ]
  },
  {
   "cell_type": "code",
   "execution_count": 186,
   "id": "b7f32db0",
   "metadata": {},
   "outputs": [
    {
     "data": {
      "text/plain": [
       "'With little oxygen left in their scuba tanks, two sisters are trapped in a shark cage at the bottom of the ocean while great whites circle nearby.'"
      ]
     },
     "execution_count": 186,
     "metadata": {},
     "output_type": "execute_result"
    }
   ],
   "source": [
    "netflix_movies[netflix_movies['title']=='In The Deep'].description.iloc[0]"
   ]
  },
  {
   "cell_type": "code",
   "execution_count": 187,
   "id": "68bed5f6",
   "metadata": {},
   "outputs": [
    {
     "data": {
      "text/plain": [
       "\"No one believes Chicken Little when he tries to warn of an alien invasion – so it's up to him and his misfit friends to save the world!\""
      ]
     },
     "execution_count": 187,
     "metadata": {},
     "output_type": "execute_result"
    }
   ],
   "source": [
    "netflix_movies[netflix_movies['title']=='Chicken Little'].description.iloc[0]"
   ]
  },
  {
   "cell_type": "code",
   "execution_count": 189,
   "id": "63868dfb",
   "metadata": {},
   "outputs": [
    {
     "data": {
      "text/plain": [
       "title\n",
       "Last Breath                       1.000000\n",
       "In The Deep                       0.263331\n",
       "Motu Patlu: Deep Sea Adventure    0.193887\n",
       "Mine 9                            0.152162\n",
       "Chicken Little                    0.141503\n",
       "                                    ...   \n",
       "The Lovers                        0.000000\n",
       "Seth Meyers: Lobby Baby           0.000000\n",
       "Luccas Neto in: Summer Camp       0.000000\n",
       "Shadow                            0.000000\n",
       "Zubaan                            0.000000\n",
       "Name: Last Breath, Length: 6131, dtype: float64"
      ]
     },
     "execution_count": 189,
     "metadata": {},
     "output_type": "execute_result"
    }
   ],
   "source": [
    "cosine_sim_df['Last Breath'].sort_values(ascending=False)"
   ]
  },
  {
   "cell_type": "code",
   "execution_count": null,
   "id": "38c7913d",
   "metadata": {},
   "outputs": [],
   "source": []
  }
 ],
 "metadata": {
  "kernelspec": {
   "display_name": "Python 3 (ipykernel)",
   "language": "python",
   "name": "python3"
  },
  "language_info": {
   "codemirror_mode": {
    "name": "ipython",
    "version": 3
   },
   "file_extension": ".py",
   "mimetype": "text/x-python",
   "name": "python",
   "nbconvert_exporter": "python",
   "pygments_lexer": "ipython3",
   "version": "3.10.9"
  }
 },
 "nbformat": 4,
 "nbformat_minor": 5
}
